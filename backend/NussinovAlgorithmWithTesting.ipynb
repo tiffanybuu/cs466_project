{
  "nbformat": 4,
  "nbformat_minor": 0,
  "metadata": {
    "colab": {
      "name": "NussinovAlgorithmWithTesting.ipynb",
      "provenance": []
    },
    "kernelspec": {
      "name": "python3",
      "display_name": "Python 3"
    }
  },
  "cells": [
    {
      "cell_type": "code",
      "metadata": {
        "id": "RJFXoqIdNg5d"
      },
      "source": [
        "import sys\n",
        "import numpy as np\n",
        "import pandas as pd\n",
        "from itertools import compress"
      ],
      "execution_count": 135,
      "outputs": []
    },
    {
      "cell_type": "code",
      "metadata": {
        "id": "a2kEWuMAVG9L"
      },
      "source": [
        "def validate_sequence(input_sequence):\n",
        "  \"\"\" \n",
        "  Checks whether an input only contains valid nucleotides.\n",
        "  Returns input string as a list of capitalized nucleotides if valid\n",
        "  \"\"\"\n",
        "  valid_chars = ['A', 'U', 'C', 'G']\n",
        "  input_sequence = [c.upper() for c in input_sequence]\n",
        "\n",
        "  for char in input_sequence:\n",
        "    if char not in valid_chars:\n",
        "      return False\n",
        "  return input_sequence"
      ],
      "execution_count": 136,
      "outputs": []
    },
    {
      "cell_type": "code",
      "metadata": {
        "id": "kL0a7VVfcc_q"
      },
      "source": [
        "def get_base_pairing_score(v_i, v_j):\n",
        "  \"\"\"Returns 1 if input nucleotides form a chemical bond.\"\"\"\n",
        "  pairs = [('A','U'), ('U', 'A'), ('G', 'C'), ('C', 'G')]\n",
        "  if (v_i, v_j) in pairs:\n",
        "      return 1\n",
        "  return 0"
      ],
      "execution_count": 137,
      "outputs": []
    },
    {
      "cell_type": "code",
      "metadata": {
        "id": "efCP70lFV4t1"
      },
      "source": [
        "def fill_dp_table(rna_strand, hairpin_loop_min):\n",
        "  \"\"\"\n",
        "  Fills out DP table that corresponds to optimal scoring of input sequence.\n",
        "\n",
        "  Parameters\n",
        "  ----------\n",
        "  rna_strand : list of n chararacters\n",
        "      valid all caps sequence of nucleotides\n",
        "  hairpin_loop_min : int\n",
        "      minimum length of hairpin loops\n",
        "\n",
        "  Returns\n",
        "  -------\n",
        "  dp_table : 2-D list\n",
        "      n x n table containing Nussinov scores between indices\n",
        "  max_score: int\n",
        "      maximum amount of valid pairings possible in secondary structure\n",
        "\n",
        "  \"\"\"\n",
        "  n = len(rna_strand)\n",
        "  \n",
        "  dp = [[0 for _ in range(n)] for _ in range(n)] # initialize nxn table with zeroes\n",
        "\n",
        "  # iterate through table diagonally\n",
        "  for x in range(1, n):\n",
        "    for i in range(0, n - x):\n",
        "      if i == 0:\n",
        "        j = x \n",
        "      else:\n",
        "        j += 1\n",
        "      # if distance between i and j is enough, check 4 possible cases and choose maximum\n",
        "      if (j - i >= hairpin_loop_min): # we want hairpin loops with this length or more\n",
        "        i_j_paired = dp[i + 1][j - 1] + get_base_pairing_score(rna_strand[i], rna_strand[j])\n",
        "        i_unpaired = dp[i + 1][j]\n",
        "        j_unpaired = dp[i][j -1]\n",
        "        bifurcation = max([dp[i][k] + dp[k + 1][j] for k in range (i, j)])\n",
        "\n",
        "        dp[i][j] = max(i_j_paired, i_unpaired, j_unpaired, bifurcation)\n",
        "\n",
        "  return dp, dp[0][n - 1]   # (0, n - 1) contains overall max score"
      ],
      "execution_count": 138,
      "outputs": []
    },
    {
      "cell_type": "code",
      "metadata": {
        "id": "YzN_lYw0k4xA"
      },
      "source": [
        "def traceback(dp_table):\n",
        "  \"\"\"\n",
        "  Backtraces input DP table to generate a list of RNA secondary structure index pairings.\n",
        "\n",
        "  Parameters\n",
        "  ----------\n",
        "  dp_table : 2-D list\n",
        "      n x n table containing Nussinov scores between indices\n",
        "\n",
        "  Returns\n",
        "  -------\n",
        "  paired_indices: list of integer tuples\n",
        "      set of indices in the original RNA strand \n",
        "      that are paired together in optimal secondary structure\n",
        "\n",
        "  \"\"\"\n",
        "  n = len(dp_table)\n",
        "  paired_indices = [] # list containing which indices i, j in rna_strand are paired\n",
        "  stack = []\n",
        "  stack.append((0, n - 1))  # (0, n - 1) instead of (1, n) to stay within index bounds\n",
        "  while (len(stack) > 0):\n",
        "    pair = stack.pop()\n",
        "    i = pair[0]\n",
        "    j = pair[1]\n",
        "\n",
        "    if (i >= j):\n",
        "      continue\n",
        "    elif (dp_table[i + 1][j] == dp_table[i][j]): # i is unpaired\n",
        "      stack.append((i + 1, j))\n",
        "    elif (dp_table[i][j - 1] == dp_table[i][j]): # j is unpaired\n",
        "      stack.append((i, j - 1))\n",
        "    elif (dp_table[i + 1][j - 1] + 1 == dp_table[i][j]): # we have a pairing\n",
        "      paired_indices.append((i, j))  # add to paired indices list\n",
        "      stack.append((i + 1, j - 1))\n",
        "    else:\n",
        "      for k in range(i + 1, j):\n",
        "        if (dp_table[i][k] + dp_table[k + 1][j] == dp_table[i][j]): # bifurcation\n",
        "          stack.append((k + 1, j))\n",
        "          stack.append((i, k))\n",
        "          break\n",
        "  return paired_indices"
      ],
      "execution_count": 139,
      "outputs": []
    },
    {
      "cell_type": "code",
      "metadata": {
        "id": "E_f7Uj-8ACMt"
      },
      "source": [
        "def format_pairings(rna_strand, paired_indices_list):\n",
        "  \"\"\"Generates a represendation of RNA 2-D structure given optimal base pairings.\"\"\"\n",
        "  formatted = ['-' for i in range(len(rna_strand))] # initialize everything with dashes\n",
        "  for pair in paired_indices_list:\n",
        "    formatted[pair[0]] = \"(\"\n",
        "    formatted[pair[1]] = \")\"\n",
        "  return \" \".join(formatted)"
      ],
      "execution_count": 140,
      "outputs": []
    },
    {
      "cell_type": "code",
      "metadata": {
        "id": "TV4tnixYNtus"
      },
      "source": [
        "def nussinov(rna_strand, loop_parameter=0):\n",
        "  \"\"\"\n",
        "  Executes Nussinov Algorithm to predict optimal secondary structure of input RNA strand.\n",
        "\n",
        "  Parameters\n",
        "  ----------\n",
        "  rna_strand : str\n",
        "      1-D RNA structure\n",
        "  loop_parameter : int\n",
        "      minimum length of hairpin loops, zero by default\n",
        "\n",
        "  Returns\n",
        "  -------\n",
        "  dp_table : 2-D list\n",
        "      n x n table containing Nussinov scores between indices\n",
        "  max_score: int\n",
        "      maximum amount of valid pairings possible in secondary structure\n",
        "  pairings: list of integer tuples\n",
        "      set of indices in the original RNA strand \n",
        "      that are paired together in optimal secondary structure\n",
        "  dash_structure: str\n",
        "      represendation of RNA 2-D structure\n",
        "\n",
        "  \"\"\"\n",
        "  rna_strand = validate_sequence(rna_strand)\n",
        "  dp_table, max_score = fill_dp_table(rna_strand, loop_parameter)\n",
        "  pairings = traceback(dp_table)\n",
        "  dash_structure = format_pairings(rna_strand, pairings)\n",
        "  return dp_table, max_score, pairings, dash_structure"
      ],
      "execution_count": 141,
      "outputs": []
    },
    {
      "cell_type": "code",
      "metadata": {
        "id": "42SKnGawBKG5"
      },
      "source": [
        "from tabulate import tabulate\n",
        "pdtabulate=lambda df:tabulate(df,headers='keys',tablefmt='psql')\n",
        "\n",
        "def print_nussinov_output_nicely(rna_strand, loop_parameter, dp_table, max_score, dash_output):\n",
        "  sys.stdout.write(\"INPUT RNA STRAND: \" + rna_strand + \"\\n\")\n",
        "  sys.stdout.write(\"MINIMUM LOOP LENGTH: \" + str(loop_parameter) + \"\\n\")\n",
        "  sys.stdout.write(\"OPTIMAL SECONDARY STRUCTURE: \" + dash_output + \"\\n\")\n",
        "  sys.stdout.write(\"MAXIMAL NUMBER OF NUCLEOTIDE PAIRINGS: \" + str(max_score) + \"\\n\")\n",
        "  sys.stdout.write(\"DP TABLE: \" + \"\\n\\n\")\n",
        "  df = pd.DataFrame.from_records(dp_table)\n",
        "  print(pdtabulate(df))\n"
      ],
      "execution_count": 142,
      "outputs": []
    },
    {
      "cell_type": "code",
      "metadata": {
        "id": "JhGdeOvIY7vn"
      },
      "source": [
        "def check_pseudoknots(secondary_str):\n",
        "  \"\"\" \n",
        "  Checks whether a set of pairings in RNA secondary structure contains pseudoknots.\n",
        "  \"\"\"\n",
        "  # pairwise iteration through list of pairings\n",
        "  pairwise_groupings = list(zip(secondary_str, secondary_str[1:] + secondary_str[:1])) \n",
        "  for two_pairs in pairwise_groupings:\n",
        "    i = two_pairs[0][0]\n",
        "    j = two_pairs[0][1]\n",
        "    i_prime = two_pairs[1][0]\n",
        "    j_prime = two_pairs[1][1]\n",
        "\n",
        "    # pseudoknot detected\n",
        "    if (i < i_prime < j < j_prime) or (i_prime < i < j_prime < j):\n",
        "      return True\n",
        "\n",
        "  return False"
      ],
      "execution_count": 143,
      "outputs": []
    },
    {
      "cell_type": "code",
      "metadata": {
        "id": "5FbLK4J5UNUU"
      },
      "source": [
        "def get_reference_score(s):\n",
        "    \"\"\"Return number of pairings given secondary structure\"\"\"\n",
        "    counter = 0\n",
        "    s = [c for c in s]\n",
        "    for c in s:\n",
        "        if c == '(': # each open parenthese corresponds to a pairing\n",
        "            counter += 1\n",
        "          \n",
        "    return counter"
      ],
      "execution_count": 144,
      "outputs": []
    },
    {
      "cell_type": "code",
      "metadata": {
        "colab": {
          "base_uri": "https://localhost:8080/"
        },
        "id": "n6E23anupGqi",
        "outputId": "a35766f5-47b4-43ef-f139-c6e57ca2d916"
      },
      "source": [
        "input = 'GUUUCCAUCCCCGUGAGGGGAAUAAGUGUUUUGAA'\n",
        "dp, ms, pairs, final = nussinov(input, 0)\n",
        "print_nussinov_output_nicely(input, 0, dp, ms, final)\n"
      ],
      "execution_count": 145,
      "outputs": [
        {
          "output_type": "stream",
          "text": [
            "INPUT RNA STRAND: GUUUCCAUCCCCGUGAGGGGAAUAAGUGUUUUGAA\n",
            "MINIMUM LOOP LENGTH: 0\n",
            "OPTIMAL SECONDARY STRUCTURE: - - ( ( ( ( ( ) ( ( ( ( ) ( - ) ) ) ) ) ( ( ( ) ( - ) - ) ) - - ) ) )\n",
            "MAXIMAL NUMBER OF NUCLEOTIDE PAIRINGS: 14\n",
            "DP TABLE: \n",
            "\n",
            "+----+-----+-----+-----+-----+-----+-----+-----+-----+-----+-----+------+------+------+------+------+------+------+------+------+------+------+------+------+------+------+------+------+------+------+------+------+------+------+------+------+\n",
            "|    |   0 |   1 |   2 |   3 |   4 |   5 |   6 |   7 |   8 |   9 |   10 |   11 |   12 |   13 |   14 |   15 |   16 |   17 |   18 |   19 |   20 |   21 |   22 |   23 |   24 |   25 |   26 |   27 |   28 |   29 |   30 |   31 |   32 |   33 |   34 |\n",
            "|----+-----+-----+-----+-----+-----+-----+-----+-----+-----+-----+------+------+------+------+------+------+------+------+------+------+------+------+------+------+------+------+------+------+------+------+------+------+------+------+------|\n",
            "|  0 |   0 |   0 |   0 |   0 |   1 |   1 |   1 |   2 |   2 |   2 |    2 |    2 |    3 |    3 |    4 |    4 |    5 |    6 |    7 |    8 |    8 |    9 |    9 |   10 |   11 |   11 |   11 |   11 |   11 |   12 |   12 |   12 |   12 |   13 |   14 |\n",
            "|  1 |   0 |   0 |   0 |   0 |   0 |   0 |   1 |   1 |   1 |   1 |    1 |    1 |    2 |    2 |    3 |    4 |    4 |    5 |    6 |    7 |    8 |    9 |    9 |   10 |   11 |   11 |   11 |   11 |   11 |   11 |   11 |   11 |   12 |   13 |   14 |\n",
            "|  2 |   0 |   0 |   0 |   0 |   0 |   0 |   1 |   1 |   1 |   1 |    1 |    1 |    2 |    2 |    3 |    4 |    4 |    5 |    6 |    7 |    8 |    9 |    9 |   10 |   10 |   10 |   11 |   11 |   11 |   11 |   11 |   11 |   12 |   13 |   14 |\n",
            "|  3 |   0 |   0 |   0 |   0 |   0 |   0 |   1 |   1 |   1 |   1 |    1 |    1 |    2 |    2 |    3 |    4 |    4 |    5 |    6 |    7 |    8 |    8 |    9 |    9 |    9 |    9 |   10 |   10 |   11 |   11 |   11 |   11 |   12 |   13 |   13 |\n",
            "|  4 |   0 |   0 |   0 |   0 |   0 |   0 |   0 |   1 |   1 |   1 |    1 |    1 |    2 |    2 |    3 |    3 |    4 |    5 |    6 |    7 |    7 |    7 |    8 |    8 |    8 |    9 |    9 |   10 |   10 |   11 |   11 |   11 |   12 |   12 |   13 |\n",
            "|  5 |   0 |   0 |   0 |   0 |   0 |   0 |   0 |   1 |   1 |   1 |    1 |    1 |    2 |    2 |    3 |    3 |    4 |    5 |    6 |    7 |    7 |    7 |    8 |    8 |    8 |    8 |    9 |    9 |   10 |   11 |   11 |   11 |   11 |   12 |   13 |\n",
            "|  6 |   0 |   0 |   0 |   0 |   0 |   0 |   0 |   1 |   1 |   1 |    1 |    1 |    2 |    2 |    3 |    3 |    4 |    5 |    6 |    6 |    6 |    6 |    7 |    7 |    7 |    7 |    8 |    8 |    9 |   10 |   10 |   10 |   10 |   11 |   12 |\n",
            "|  7 |   0 |   0 |   0 |   0 |   0 |   0 |   0 |   0 |   0 |   0 |    0 |    0 |    1 |    1 |    2 |    3 |    3 |    4 |    5 |    5 |    6 |    6 |    7 |    7 |    7 |    7 |    8 |    8 |    9 |    9 |    9 |    9 |    9 |   10 |   11 |\n",
            "|  8 |   0 |   0 |   0 |   0 |   0 |   0 |   0 |   0 |   0 |   0 |    0 |    0 |    1 |    1 |    2 |    2 |    3 |    4 |    5 |    5 |    5 |    5 |    6 |    6 |    6 |    6 |    7 |    7 |    8 |    9 |    9 |    9 |    9 |   10 |   11 |\n",
            "|  9 |   0 |   0 |   0 |   0 |   0 |   0 |   0 |   0 |   0 |   0 |    0 |    0 |    1 |    1 |    2 |    2 |    3 |    4 |    4 |    4 |    4 |    4 |    5 |    5 |    5 |    5 |    6 |    6 |    7 |    8 |    8 |    8 |    8 |    9 |   10 |\n",
            "| 10 |   0 |   0 |   0 |   0 |   0 |   0 |   0 |   0 |   0 |   0 |    0 |    0 |    1 |    1 |    2 |    2 |    3 |    3 |    3 |    3 |    3 |    3 |    4 |    4 |    4 |    4 |    5 |    5 |    6 |    7 |    7 |    7 |    7 |    8 |    9 |\n",
            "| 11 |   0 |   0 |   0 |   0 |   0 |   0 |   0 |   0 |   0 |   0 |    0 |    0 |    1 |    1 |    1 |    2 |    2 |    2 |    2 |    2 |    2 |    2 |    3 |    3 |    3 |    3 |    4 |    4 |    5 |    6 |    6 |    6 |    6 |    7 |    8 |\n",
            "| 12 |   0 |   0 |   0 |   0 |   0 |   0 |   0 |   0 |   0 |   0 |    0 |    0 |    0 |    0 |    0 |    1 |    1 |    1 |    1 |    1 |    1 |    1 |    2 |    2 |    2 |    2 |    3 |    3 |    4 |    5 |    5 |    5 |    5 |    6 |    7 |\n",
            "| 13 |   0 |   0 |   0 |   0 |   0 |   0 |   0 |   0 |   0 |   0 |    0 |    0 |    0 |    0 |    0 |    1 |    1 |    1 |    1 |    1 |    1 |    1 |    2 |    2 |    2 |    2 |    3 |    3 |    4 |    5 |    5 |    5 |    5 |    6 |    7 |\n",
            "| 14 |   0 |   0 |   0 |   0 |   0 |   0 |   0 |   0 |   0 |   0 |    0 |    0 |    0 |    0 |    0 |    0 |    0 |    0 |    0 |    0 |    0 |    0 |    1 |    1 |    1 |    1 |    2 |    2 |    3 |    4 |    5 |    5 |    5 |    6 |    6 |\n",
            "| 15 |   0 |   0 |   0 |   0 |   0 |   0 |   0 |   0 |   0 |   0 |    0 |    0 |    0 |    0 |    0 |    0 |    0 |    0 |    0 |    0 |    0 |    0 |    1 |    1 |    1 |    1 |    2 |    2 |    3 |    4 |    5 |    5 |    5 |    6 |    6 |\n",
            "| 16 |   0 |   0 |   0 |   0 |   0 |   0 |   0 |   0 |   0 |   0 |    0 |    0 |    0 |    0 |    0 |    0 |    0 |    0 |    0 |    0 |    0 |    0 |    1 |    1 |    1 |    1 |    2 |    2 |    3 |    4 |    4 |    4 |    4 |    5 |    6 |\n",
            "| 17 |   0 |   0 |   0 |   0 |   0 |   0 |   0 |   0 |   0 |   0 |    0 |    0 |    0 |    0 |    0 |    0 |    0 |    0 |    0 |    0 |    0 |    0 |    1 |    1 |    1 |    1 |    2 |    2 |    3 |    4 |    4 |    4 |    4 |    5 |    6 |\n",
            "| 18 |   0 |   0 |   0 |   0 |   0 |   0 |   0 |   0 |   0 |   0 |    0 |    0 |    0 |    0 |    0 |    0 |    0 |    0 |    0 |    0 |    0 |    0 |    1 |    1 |    1 |    1 |    2 |    2 |    3 |    4 |    4 |    4 |    4 |    5 |    6 |\n",
            "| 19 |   0 |   0 |   0 |   0 |   0 |   0 |   0 |   0 |   0 |   0 |    0 |    0 |    0 |    0 |    0 |    0 |    0 |    0 |    0 |    0 |    0 |    0 |    1 |    1 |    1 |    1 |    2 |    2 |    3 |    4 |    4 |    4 |    4 |    5 |    6 |\n",
            "| 20 |   0 |   0 |   0 |   0 |   0 |   0 |   0 |   0 |   0 |   0 |    0 |    0 |    0 |    0 |    0 |    0 |    0 |    0 |    0 |    0 |    0 |    0 |    1 |    1 |    1 |    1 |    2 |    2 |    3 |    4 |    4 |    4 |    4 |    5 |    6 |\n",
            "| 21 |   0 |   0 |   0 |   0 |   0 |   0 |   0 |   0 |   0 |   0 |    0 |    0 |    0 |    0 |    0 |    0 |    0 |    0 |    0 |    0 |    0 |    0 |    1 |    1 |    1 |    1 |    2 |    2 |    3 |    3 |    3 |    3 |    3 |    4 |    5 |\n",
            "| 22 |   0 |   0 |   0 |   0 |   0 |   0 |   0 |   0 |   0 |   0 |    0 |    0 |    0 |    0 |    0 |    0 |    0 |    0 |    0 |    0 |    0 |    0 |    0 |    1 |    1 |    1 |    2 |    2 |    2 |    2 |    2 |    2 |    2 |    3 |    4 |\n",
            "| 23 |   0 |   0 |   0 |   0 |   0 |   0 |   0 |   0 |   0 |   0 |    0 |    0 |    0 |    0 |    0 |    0 |    0 |    0 |    0 |    0 |    0 |    0 |    0 |    0 |    0 |    0 |    1 |    1 |    2 |    2 |    2 |    2 |    2 |    3 |    4 |\n",
            "| 24 |   0 |   0 |   0 |   0 |   0 |   0 |   0 |   0 |   0 |   0 |    0 |    0 |    0 |    0 |    0 |    0 |    0 |    0 |    0 |    0 |    0 |    0 |    0 |    0 |    0 |    0 |    1 |    1 |    1 |    1 |    1 |    1 |    1 |    2 |    3 |\n",
            "| 25 |   0 |   0 |   0 |   0 |   0 |   0 |   0 |   0 |   0 |   0 |    0 |    0 |    0 |    0 |    0 |    0 |    0 |    0 |    0 |    0 |    0 |    0 |    0 |    0 |    0 |    0 |    0 |    0 |    0 |    0 |    0 |    0 |    0 |    1 |    2 |\n",
            "| 26 |   0 |   0 |   0 |   0 |   0 |   0 |   0 |   0 |   0 |   0 |    0 |    0 |    0 |    0 |    0 |    0 |    0 |    0 |    0 |    0 |    0 |    0 |    0 |    0 |    0 |    0 |    0 |    0 |    0 |    0 |    0 |    0 |    0 |    1 |    2 |\n",
            "| 27 |   0 |   0 |   0 |   0 |   0 |   0 |   0 |   0 |   0 |   0 |    0 |    0 |    0 |    0 |    0 |    0 |    0 |    0 |    0 |    0 |    0 |    0 |    0 |    0 |    0 |    0 |    0 |    0 |    0 |    0 |    0 |    0 |    0 |    1 |    2 |\n",
            "| 28 |   0 |   0 |   0 |   0 |   0 |   0 |   0 |   0 |   0 |   0 |    0 |    0 |    0 |    0 |    0 |    0 |    0 |    0 |    0 |    0 |    0 |    0 |    0 |    0 |    0 |    0 |    0 |    0 |    0 |    0 |    0 |    0 |    0 |    1 |    2 |\n",
            "| 29 |   0 |   0 |   0 |   0 |   0 |   0 |   0 |   0 |   0 |   0 |    0 |    0 |    0 |    0 |    0 |    0 |    0 |    0 |    0 |    0 |    0 |    0 |    0 |    0 |    0 |    0 |    0 |    0 |    0 |    0 |    0 |    0 |    0 |    1 |    2 |\n",
            "| 30 |   0 |   0 |   0 |   0 |   0 |   0 |   0 |   0 |   0 |   0 |    0 |    0 |    0 |    0 |    0 |    0 |    0 |    0 |    0 |    0 |    0 |    0 |    0 |    0 |    0 |    0 |    0 |    0 |    0 |    0 |    0 |    0 |    0 |    1 |    2 |\n",
            "| 31 |   0 |   0 |   0 |   0 |   0 |   0 |   0 |   0 |   0 |   0 |    0 |    0 |    0 |    0 |    0 |    0 |    0 |    0 |    0 |    0 |    0 |    0 |    0 |    0 |    0 |    0 |    0 |    0 |    0 |    0 |    0 |    0 |    0 |    1 |    1 |\n",
            "| 32 |   0 |   0 |   0 |   0 |   0 |   0 |   0 |   0 |   0 |   0 |    0 |    0 |    0 |    0 |    0 |    0 |    0 |    0 |    0 |    0 |    0 |    0 |    0 |    0 |    0 |    0 |    0 |    0 |    0 |    0 |    0 |    0 |    0 |    0 |    0 |\n",
            "| 33 |   0 |   0 |   0 |   0 |   0 |   0 |   0 |   0 |   0 |   0 |    0 |    0 |    0 |    0 |    0 |    0 |    0 |    0 |    0 |    0 |    0 |    0 |    0 |    0 |    0 |    0 |    0 |    0 |    0 |    0 |    0 |    0 |    0 |    0 |    0 |\n",
            "| 34 |   0 |   0 |   0 |   0 |   0 |   0 |   0 |   0 |   0 |   0 |    0 |    0 |    0 |    0 |    0 |    0 |    0 |    0 |    0 |    0 |    0 |    0 |    0 |    0 |    0 |    0 |    0 |    0 |    0 |    0 |    0 |    0 |    0 |    0 |    0 |\n",
            "+----+-----+-----+-----+-----+-----+-----+-----+-----+-----+-----+------+------+------+------+------+------+------+------+------+------+------+------+------+------+------+------+------+------+------+------+------+------+------+------+------+\n"
          ],
          "name": "stdout"
        }
      ]
    },
    {
      "cell_type": "code",
      "metadata": {
        "colab": {
          "base_uri": "https://localhost:8080/"
        },
        "id": "zPM6krVLSGuX",
        "outputId": "3a4732ec-d6e1-4736-b329-ee3c3780d12d"
      },
      "source": [
        "benchmark_data = \"/content/S-Full-Train.txt\"\n",
        "test_file = open(benchmark_data, \"r\")\n",
        "file_as_list = test_file.readlines()\n",
        "for i in range(0, 30, 5): # iterate through 6 test samples\n",
        "  original_strand = file_as_list[i + 1].strip()\n",
        "  paper_secondary_structure = file_as_list[i + 2].strip() # given to us from the paper\n",
        "  dp, m_score, pairs, predicted_structure = nussinov(original_strand, 0)\n",
        "  reference_score = get_reference_score(paper_secondary_structure)\n",
        "  check_for_knots = check_pseudoknots(pairs)\n",
        "\n",
        "  sys.stdout.write(\"INPUT RNA STRAND: \" + original_strand + \"\\n\")\n",
        "  sys.stdout.write(\"NUMBER OF PAIRINGS IN BENCHMARK DATASET: \" + str(reference_score) + \"\\n\")\n",
        "  sys.stdout.write(\"NUMBER OF PAIRINGS PREDICTED IN OUR IMPLEMENTATION: \" + str(m_score) + \"\\n\")\n",
        "  sys.stdout.write(\"PSEUDOKNOTS PRESENT: \" + str(check_for_knots) + \"\\n\\n\")\n"
      ],
      "execution_count": 146,
      "outputs": [
        {
          "output_type": "stream",
          "text": [
            "INPUT RNA STRAND: gaggaaagucccgccUCCUGGCCUAAAGGAGUCUCUAUAGAGACAAGGGCAACACCCUUGGCAACUAUACAGAAACAAGUACCUUGAAAGCUACAUGUGAAAAUGAUUGUGCCCCUUCCUCUGGUAACGGAGGAAGAAACAUGAGAGUAGCUUUCAAGGAUGAAAAGAUAGACCUCCUAGGAGCAAGUAGAGGGAAAGAUGAGACUAGGCCCGAUUUCCCUCUAGGACGCAUAGCCAAAUCCCCCAACCAUUacaaaagcgggcuua\n",
            "NUMBER OF PAIRINGS IN BENCHMARK DATASET: 65\n",
            "NUMBER OF PAIRINGS PREDICTED IN OUR IMPLEMENTATION: 109\n",
            "PSEUDOKNOTS PRESENT: False\n",
            "\n",
            "INPUT RNA STRAND: gaggaaaguccgggCUCCAUAGGGCAGAGUGCCAGGUAACGCCUGGGAGGCGUGAGCCUACGGAAAGUGCCACAGAAAACAACCGCCUAAGUGCGCAAGCGCCGGUAAGGGUGAAAAGGUGCGGUAAGAGCGCACCGCACGGCUGGCAACAGUCCGUGGCUAGGUAAACCCCACUCGGAGCAAGACCAAAUAGGGAUCCGUUGGCGUGGCCCGCGCUGGAUCCGGGUAGGUUGCUAGAGGCGGCCAGCGAUGGUCGUCGUAGAGGAAUGACUGUCCUCGACAGAAcccggcuua\n",
            "NUMBER OF PAIRINGS IN BENCHMARK DATASET: 81\n",
            "NUMBER OF PAIRINGS PREDICTED IN OUR IMPLEMENTATION: 118\n",
            "PSEUDOKNOTS PRESENT: False\n",
            "\n",
            "INPUT RNA STRAND: CACAGAGCACGGUGGUGGCCAACAGCCACCCACGGCGACGUGCGGGACAGUGCCACAGAGAACAGACCGCCAGCGGCCCCGCGGCCUUCGGGCCACGGGGUGCGGGCAAGGGUGAAACGGUGAGGUAAGAGCUCACCAGCGACGUCGGCGACGGCGUCGGCUCGGUAAACCCCACCGGGAGCAAGACCAAGAGGGCGCUCCGGCGCCUGCGCUGACGGGCUGCUCGUCCGACGUCAGCGGGUAGGUCGCUCGAGGCACGCAGCAAUGCGUGACCCAGAUGGAUGGUCGCCCCCCAGCCCUCGGGCCGGGG\n",
            "NUMBER OF PAIRINGS IN BENCHMARK DATASET: 90\n",
            "NUMBER OF PAIRINGS PREDICTED IN OUR IMPLEMENTATION: 134\n",
            "PSEUDOKNOTS PRESENT: False\n",
            "\n",
            "INPUT RNA STRAND: AAAGCAGGCCAGGCAACCGCUGCCUGCACCGCAAGGUGCAGGGGGAGGAAAGUCCGGACUCCACAGGGCAGGGUGUUGGCUAACAGCCAUCCACGGCAACGUGCGGAAUAGGGCCACAGAGACGAGUCUUGCCGCCGGGUUCGCCCGGCGGGAAGGGUGAAACGCGGUAACCUCCACCUGGAGCAAUCCCAAAUAGGCAGGCGAUGAAGCGGCCCGCUGAGUCUGCGGGUAGGGAGCUGGAGCCGGCUGGUAACAGCCGGCCUAGAGGAAUGGUUGUCACGCACCGUUUGCCGCAAGGCGGGCGGGGCGCACAGAAUCCGGCUUAUCGGCCUGCUUUGCUU\n",
            "NUMBER OF PAIRINGS IN BENCHMARK DATASET: 99\n",
            "NUMBER OF PAIRINGS PREDICTED IN OUR IMPLEMENTATION: 145\n",
            "PSEUDOKNOTS PRESENT: False\n",
            "\n",
            "INPUT RNA STRAND: CACAGAGCAACGGUGGUGGCUAACGGCCACCCACGGCGACGUGCGGGACAGUGCCACAGAAAUCAGACCGCCAGCGGCCGCCGCUCCUCGGAGCAGCGGUGCGGGUAAGGGUGAAACGGUGAGGUAAGAGCUCACCAGCGCUCCGGGUGACCGGGGCGGCUAGGUAAACCCCACCGGGAGCAAGACCAAGAGAGUCGCGUGGCGCUUCGGCGGUGCACGGCUUGCGCUGACGGGCUGCUCGUCCGAUGUCAGCGGGUAGGUUGCACGAGGCGUCCAGCAAUGGGCGUCCCAGAUGGAUGGUCGCCCACG\n",
            "NUMBER OF PAIRINGS IN BENCHMARK DATASET: 88\n",
            "NUMBER OF PAIRINGS PREDICTED IN OUR IMPLEMENTATION: 132\n",
            "PSEUDOKNOTS PRESENT: False\n",
            "\n",
            "INPUT RNA STRAND: GGAGUGGGCCAGACGACCGCCGCGGAGCAAUCCGGGGAGGAAAGUCCGGGCUCCACAGGGCAAGGCGCCGGCUAACGGCCGGGAGGCGUGAGCCUACGGAAAGUGCCACAGAAAAUAUACCGCCAAAGCGCGUAAGCGCCGGUAAGGGUGAAAAGGUGCGGUAAGAGCGCACCGCAUUUCCGGCGACGGGAAUGGCAGGGAAAACCCCGCCUGGAGCAAGACCAAAUAGGCGUGCGAUACCGUGGCCCGCGGUGCAUGCGGGUAGGUUGCUGGAGCCUGCGCGUAAGUUCAGGCCUAGAGGAAUGGUCGUCCACGACAGAACCCGGCUUAUCGGCCCACUCCAAUU\n",
            "NUMBER OF PAIRINGS IN BENCHMARK DATASET: 96\n",
            "NUMBER OF PAIRINGS PREDICTED IN OUR IMPLEMENTATION: 139\n",
            "PSEUDOKNOTS PRESENT: False\n",
            "\n"
          ],
          "name": "stdout"
        }
      ]
    }
  ]
}
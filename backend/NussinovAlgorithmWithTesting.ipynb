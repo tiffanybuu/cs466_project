{
 "cells": [
  {
   "cell_type": "code",
   "execution_count": 2,
   "metadata": {
    "id": "RJFXoqIdNg5d"
   },
   "outputs": [],
   "source": [
    "import sys\n",
    "import numpy as np\n",
    "import pandas as pd\n",
    "from itertools import compress"
   ]
  },
  {
   "cell_type": "markdown",
   "metadata": {
    "id": "mOLdWwrwOlju"
   },
   "source": [
    "**Methods For Preprocessing**"
   ]
  },
  {
   "cell_type": "code",
   "execution_count": 3,
   "metadata": {
    "id": "a2kEWuMAVG9L"
   },
   "outputs": [],
   "source": [
    "def validate_sequence(input_sequence):\n",
    "  \"\"\" \n",
    "  Checks whether an input only contains valid nucleotides.\n",
    "  Returns input string as a list of capitalized nucleotides if valid\n",
    "  \"\"\"\n",
    "  valid_chars = ['A', 'U', 'C', 'G']\n",
    "  input_sequence = input_sequence.strip()\n",
    "  input_sequence = [c.upper() for c in input_sequence]\n",
    "\n",
    "  for char in input_sequence:\n",
    "    if char not in valid_chars:\n",
    "      return False\n",
    "  return input_sequence"
   ]
  },
  {
   "cell_type": "code",
   "execution_count": null,
   "metadata": {
    "colab": {
     "base_uri": "https://localhost:8080/"
    },
    "id": "aSqz84J-qq64",
    "outputId": "bf5434d0-edbf-4e1b-e9d1-bd10f9777307"
   },
   "outputs": [
    {
     "data": {
      "text/plain": [
       "['A', 'U', 'G', 'C', 'U', 'G', 'G', 'G', 'C', 'C', 'C', 'U']"
      ]
     },
     "execution_count": 4,
     "metadata": {
      "tags": []
     },
     "output_type": "execute_result"
    }
   ],
   "source": [
    "validate_sequence(\"augcuGGGCCCU\")"
   ]
  },
  {
   "cell_type": "code",
   "execution_count": null,
   "metadata": {
    "colab": {
     "base_uri": "https://localhost:8080/"
    },
    "id": "Xc3mOaZeq3hA",
    "outputId": "d8e8d522-e16e-44b4-e836-2f711d283052"
   },
   "outputs": [
    {
     "data": {
      "text/plain": [
       "False"
      ]
     },
     "execution_count": 5,
     "metadata": {
      "tags": []
     },
     "output_type": "execute_result"
    }
   ],
   "source": [
    "validate_sequence(\"invalidsequence\")"
   ]
  },
  {
   "cell_type": "markdown",
   "metadata": {
    "id": "K1Pe2oYWOv3C"
   },
   "source": [
    "**Methods for Nussinov Implementation**"
   ]
  },
  {
   "cell_type": "code",
   "execution_count": 65,
   "metadata": {
    "id": "kL0a7VVfcc_q"
   },
   "outputs": [],
   "source": [
    "def get_base_pairing_score(v_i, v_j):\n",
    "  \"\"\"Returns 1 if input nucleotides form a chemical bond.\"\"\"\n",
    "  pairs = [('A','U'), ('U', 'A'), ('G', 'C'), ('C', 'G')]\n",
    "  two_bond = [('A', 'U'), ('U', 'A')]\n",
    "  three_bond = [('G', 'C'), ('C', 'G')]\n",
    "#   if (v_i, v_j) in two_bond:\n",
    "#     return 1\n",
    "#   elif (v_i, v_j) in three_bond:\n",
    "#     return 2\n",
    "  if (v_i, v_j) in pairs:\n",
    "      return 1\n",
    "  return 0"
   ]
  },
  {
   "cell_type": "code",
   "execution_count": 5,
   "metadata": {
    "id": "efCP70lFV4t1"
   },
   "outputs": [],
   "source": [
    "def fill_dp_table(rna_strand, hairpin_loop_min):\n",
    "  \"\"\"\n",
    "  Fills out DP table that corresponds to optimal scoring of input sequence.\n",
    "\n",
    "  Parameters\n",
    "  ----------\n",
    "  rna_strand : list of n chararacters\n",
    "      valid all caps sequence of nucleotides\n",
    "  hairpin_loop_min : int\n",
    "      minimum length of hairpin loops\n",
    "\n",
    "  Returns\n",
    "  -------\n",
    "  dp_table : 2-D list\n",
    "      n x n table containing Nussinov scores between indices\n",
    "  max_score: int\n",
    "      maximum amount of valid pairings possible in secondary structure\n",
    "\n",
    "  \"\"\"\n",
    "  n = len(rna_strand)\n",
    "  \n",
    "  dp = [[0 for _ in range(n)] for _ in range(n)] # initialize nxn table with zeroes\n",
    "\n",
    "  # iterate through table diagonally\n",
    "  for x in range(1, n):\n",
    "    for i in range(0, n - x):\n",
    "      if i == 0:\n",
    "        j = x \n",
    "      else:\n",
    "        j += 1\n",
    "      # if distance between i and j is enough, check 4 possible cases and choose maximum\n",
    "      if (j - i > hairpin_loop_min): # we want hairpin loops with this length or more\n",
    "        i_j_paired = dp[i + 1][j - 1] + get_base_pairing_score(rna_strand[i], rna_strand[j])\n",
    "        i_unpaired = dp[i + 1][j]\n",
    "        j_unpaired = dp[i][j -1]\n",
    "        bifurcation = max([dp[i][k] + dp[k + 1][j] for k in range (i, j)])\n",
    "\n",
    "        dp[i][j] = max(i_j_paired, i_unpaired, j_unpaired, bifurcation)\n",
    "\n",
    "  return dp, dp[0][n - 1]   # (0, n - 1) contains overall max score"
   ]
  },
  {
   "cell_type": "code",
   "execution_count": 6,
   "metadata": {
    "id": "YzN_lYw0k4xA"
   },
   "outputs": [],
   "source": [
    "def traceback(rna_strand, dp_table):\n",
    "  \"\"\"\n",
    "  Backtraces input DP table to generate a list of RNA secondary structure index pairings.\n",
    "\n",
    "  Parameters\n",
    "  ----------\n",
    "  dp_table : 2-D list\n",
    "      n x n table containing Nussinov scores between indices\n",
    "\n",
    "  Returns\n",
    "  -------\n",
    "  paired_indices: list of integer tuples\n",
    "      set of indices in the original RNA strand \n",
    "      that are paired together in optimal secondary structure\n",
    "\n",
    "  \"\"\"\n",
    "  n = len(dp_table)\n",
    "  paired_indices = [] # list containing which indices i, j in rna_strand are paired\n",
    "  stack = []\n",
    "  stack.append((0, n - 1))  # (0, n - 1) instead of (1, n) to stay within index bounds\n",
    "  while (len(stack) > 0):\n",
    "    pair = stack.pop()\n",
    "    i = pair[0]\n",
    "    j = pair[1]\n",
    "\n",
    "    if (i >= j):\n",
    "      continue\n",
    "    elif (dp_table[i + 1][j] == dp_table[i][j]): # i is unpaired\n",
    "      stack.append((i + 1, j))\n",
    "    elif (dp_table[i][j - 1] == dp_table[i][j]): # j is unpaired\n",
    "      stack.append((i, j - 1))\n",
    "    elif (dp_table[i + 1][j - 1] + 1 == dp_table[i][j] and get_base_pairing_score(rna_strand[i], rna_strand[j]) == 1): # we have a pairing\n",
    "      paired_indices.append((i, j))  # add to paired indices list\n",
    "      stack.append((i + 1, j - 1))\n",
    "    else:\n",
    "      for k in range(i + 1, j): # last element is j - 1\n",
    "        if (dp_table[i][k] + dp_table[k + 1][j] == dp_table[i][j]): # bifurcation\n",
    "          stack.append((k + 1, j))\n",
    "          stack.append((i, k))\n",
    "          break\n",
    "  return paired_indices\n"
   ]
  },
  {
   "cell_type": "code",
   "execution_count": 7,
   "metadata": {
    "id": "TV4tnixYNtus"
   },
   "outputs": [],
   "source": [
    "def nussinov(rna_strand, loop_parameter):\n",
    "  \"\"\"\n",
    "  Executes Nussinov Algorithm to predict optimal secondary structure of input RNA strand.\n",
    "\n",
    "  Parameters\n",
    "  ----------\n",
    "  rna_strand : str\n",
    "      1-D RNA structure\n",
    "  loop_parameter : int\n",
    "      minimum length of hairpin loops, zero by default\n",
    "\n",
    "  Returns\n",
    "  -------\n",
    "  dp_table : 2-D list\n",
    "      n x n table containing Nussinov scores between indices\n",
    "  max_score: int\n",
    "      maximum amount of valid pairings possible in secondary structure\n",
    "  pairings: list of integer tuples\n",
    "      set of indices in the original RNA strand \n",
    "      that are paired together in optimal secondary structure\n",
    "  dash_structure: str\n",
    "      represendation of RNA 2-D structure\n",
    "\n",
    "  \"\"\"\n",
    "  rna_strand = validate_sequence(rna_strand)\n",
    "  dp_table, max_score = fill_dp_table(rna_strand, loop_parameter)\n",
    "  pairings = traceback(rna_strand, dp_table)\n",
    "  dash_structure = format_pairings(rna_strand, pairings)\n",
    "  return dp_table, max_score, pairings, dash_structure"
   ]
  },
  {
   "cell_type": "markdown",
   "metadata": {
    "id": "tsh4rmIKPN6Y"
   },
   "source": [
    "**Methods for Postprocessing**"
   ]
  },
  {
   "cell_type": "code",
   "execution_count": 8,
   "metadata": {
    "id": "42SKnGawBKG5"
   },
   "outputs": [],
   "source": [
    "from tabulate import tabulate\n",
    "pdtabulate=lambda df:tabulate(df,headers='keys',tablefmt='psql')\n",
    "\n",
    "def print_nussinov_output_nicely(rna_strand, loop_parameter, dp_table, max_score, dash_output):\n",
    "  sys.stdout.write(\"INPUT RNA STRAND: \" + rna_strand + \"\\n\")\n",
    "  sys.stdout.write(\"MINIMUM LOOP LENGTH: \" + str(loop_parameter) + \"\\n\")\n",
    "  sys.stdout.write(\"OPTIMAL SECONDARY STRUCTURE: \" + dash_output + \"\\n\")\n",
    "  sys.stdout.write(\"MAXIMAL NUMBER OF NUCLEOTIDE PAIRINGS: \" + str(max_score) + \"\\n\")\n",
    "  sys.stdout.write(\"DP TABLE: \" + \"\\n\\n\")\n",
    "  df = pd.DataFrame.from_records(dp_table)\n",
    "  print(pdtabulate(df))\n"
   ]
  },
  {
   "cell_type": "code",
   "execution_count": 9,
   "metadata": {
    "id": "E_f7Uj-8ACMt"
   },
   "outputs": [],
   "source": [
    "def format_pairings(rna_strand, paired_indices_list):\n",
    "  \"\"\"Generates a represendation of RNA 2-D structure given optimal base pairings.\"\"\"\n",
    "  formatted = ['-' for i in range(len(rna_strand))] # initialize everything with dashes\n",
    "  for pair in paired_indices_list:\n",
    "    formatted[pair[0]] = \"(\"\n",
    "    formatted[pair[1]] = \")\"\n",
    "  return \" \".join(formatted)"
   ]
  },
  {
   "cell_type": "markdown",
   "metadata": {
    "id": "M2pjnZ_ZO01I"
   },
   "source": [
    "**Methods for Testing**"
   ]
  },
  {
   "cell_type": "code",
   "execution_count": 10,
   "metadata": {
    "id": "5WmfU5f4RjKp"
   },
   "outputs": [],
   "source": [
    "def check_valid_pairings(input_rna, secondary_str_pairings):\n",
    "  \"\"\"Given a predicted 2D structure, check that A only bonds w/ U and C only bonds w/ G\"\"\"\n",
    "  for pair in secondary_str_pairings:\n",
    "    base_1 = input_rna[pair[0]]\n",
    "    base_2 = input_rna[pair[1]]\n",
    "    if get_base_pairing_score(base_1, base_2) != 1:\n",
    "      print(base_1, base_2)\n",
    "      return False\n",
    "  return True"
   ]
  },
  {
   "cell_type": "code",
   "execution_count": 11,
   "metadata": {
    "colab": {
     "base_uri": "https://localhost:8080/"
    },
    "id": "6XPuHJierT9j",
    "outputId": "5e3cf7b9-f8d5-4917-acc5-a88713baa75e"
   },
   "outputs": [
    {
     "name": "stdout",
     "output_type": "stream",
     "text": [
      "C C\n"
     ]
    },
    {
     "data": {
      "text/plain": [
       "False"
      ]
     },
     "execution_count": 11,
     "metadata": {},
     "output_type": "execute_result"
    }
   ],
   "source": [
    "check_valid_pairings(\"CC\", [(0, 1)])"
   ]
  },
  {
   "cell_type": "code",
   "execution_count": null,
   "metadata": {
    "colab": {
     "base_uri": "https://localhost:8080/"
    },
    "id": "950UzAWAreay",
    "outputId": "3cd69a77-3795-46b1-9b16-983c1d35758b"
   },
   "outputs": [
    {
     "data": {
      "text/plain": [
       "True"
      ]
     },
     "execution_count": 19,
     "metadata": {
      "tags": []
     },
     "output_type": "execute_result"
    }
   ],
   "source": [
    "check_valid_pairings(\"AU\", [(0, 1)])"
   ]
  },
  {
   "cell_type": "code",
   "execution_count": 12,
   "metadata": {
    "id": "JhGdeOvIY7vn"
   },
   "outputs": [],
   "source": [
    "def check_pseudoknots(secondary_str):\n",
    "  \"\"\" \n",
    "  Checks whether a set of pairings in RNA secondary structure contains pseudoknots.\n",
    "  Returns False if no pseudoknots, True otherwise\n",
    "  \"\"\"\n",
    "  # pairwise iteration through list of pairings\n",
    "  pairwise_groupings = list(zip(secondary_str, secondary_str[1:] + secondary_str[:1])) \n",
    "  for two_pairs in pairwise_groupings:\n",
    "    i = two_pairs[0][0]\n",
    "    j = two_pairs[0][1]\n",
    "    i_prime = two_pairs[1][0]\n",
    "    j_prime = two_pairs[1][1]\n",
    "\n",
    "    # pseudoknot detected\n",
    "    if (i < i_prime < j < j_prime) or (i_prime < i < j_prime < j):\n",
    "      return True\n",
    "\n",
    "  return False"
   ]
  },
  {
   "cell_type": "code",
   "execution_count": null,
   "metadata": {
    "colab": {
     "base_uri": "https://localhost:8080/"
    },
    "id": "_ks2PzX7r5Qo",
    "outputId": "30e01079-a8a2-4b1a-cb28-7c8daff6964f"
   },
   "outputs": [
    {
     "data": {
      "text/plain": [
       "False"
      ]
     },
     "execution_count": 23,
     "metadata": {
      "tags": []
     },
     "output_type": "execute_result"
    }
   ],
   "source": [
    "check_pseudoknots([(1, 4), (2, 3)]) # (()) (nested)"
   ]
  },
  {
   "cell_type": "code",
   "execution_count": null,
   "metadata": {
    "colab": {
     "base_uri": "https://localhost:8080/"
    },
    "id": "_YndIaApsFtS",
    "outputId": "b99eaad2-e704-4215-d100-02fbeeabbd2a"
   },
   "outputs": [
    {
     "data": {
      "text/plain": [
       "True"
      ]
     },
     "execution_count": 26,
     "metadata": {
      "tags": []
     },
     "output_type": "execute_result"
    }
   ],
   "source": [
    "check_pseudoknots([(1, 5), (3, 9)]) #(-(-)---)"
   ]
  },
  {
   "cell_type": "code",
   "execution_count": 13,
   "metadata": {
    "id": "g4xctjoX9UXM"
   },
   "outputs": [],
   "source": [
    "def compute_min_loop_dist(secondary_structure):\n",
    "  \"\"\"Return minimum distance between base pairs given dashed secondary structure\"\"\"\n",
    "  no_spaces = secondary_structure.replace(\" \", \"\")\n",
    "  n = len(no_spaces)\n",
    "  min_dist = n + 1 # upper bound on min distance\n",
    "\n",
    "  base_1 = no_spaces.find('(')\n",
    "\n",
    "  for i in range(base_1, n):\n",
    "    if no_spaces[i] == '(':\n",
    "      base_1 = i\n",
    "    elif no_spaces[i] == ')' and (i - base_1 < min_dist):\n",
    "      min_dist = i - base_1 - 1       \n",
    "  return min_dist \n",
    "\n"
   ]
  },
  {
   "cell_type": "code",
   "execution_count": null,
   "metadata": {
    "colab": {
     "base_uri": "https://localhost:8080/"
    },
    "id": "GDOla3xKsjbj",
    "outputId": "95ab1d46-2c0d-4081-926f-297b47405604"
   },
   "outputs": [
    {
     "data": {
      "text/plain": [
       "3"
      ]
     },
     "execution_count": 30,
     "metadata": {
      "tags": []
     },
     "output_type": "execute_result"
    }
   ],
   "source": [
    "compute_min_loop_dist(\"(((((((--(---)))))))))\")"
   ]
  },
  {
   "cell_type": "code",
   "execution_count": 71,
   "metadata": {
    "id": "QNvtmyySI95o"
   },
   "outputs": [],
   "source": [
    "def compare_single_sample(input_strand, expected_dot_dash):\n",
    "  \"\"\"\n",
    "  Compare secondary structure and score generated by our implementation \n",
    "  with a benchmark for a single input strand.\n",
    "  \"\"\"\n",
    "  dp, m_score, pairs, predicted_structure = nussinov(input_strand, 4)\n",
    "  reference_score = get_reference_score(expected_dot_dash)\n",
    "  check_for_knots = check_pseudoknots(pairs)\n",
    "  our_min_loop_dist = compute_min_loop_dist(predicted_structure)\n",
    "  paper_min_loop_dist = compute_min_loop_dist(expected_dot_dash)\n",
    "  sys.stdout.write(\"INPUT RNA STRAND: \" + input_strand + \"\\n\")\n",
    "  sys.stdout.write(\"EXPECTED 2D STRUCTURE: \" + \" \".join(expected_dot_dash) + \"\\n\")\n",
    "  sys.stdout.write(\"OUR PREDICTED 2ND STR: \" + predicted_structure + \"\\n\")\n",
    "  sys.stdout.write(\"NUMBER OF PAIRINGS IN BENCHMARK DATASET: \" + str(reference_score) + \"\\n\")\n",
    "  sys.stdout.write(\"NUMBER OF PAIRINGS PREDICTED IN OUR IMPLEMENTATION: \" + str(m_score) + \"\\n\")\n",
    "  sys.stdout.write(\"MIN LOOP DISTANCE IN BENCHMARK DATASET: \" + str(paper_min_loop_dist) + \"\\n\")\n",
    "  sys.stdout.write(\"MIN LOOP DISTANCE IN OUR IMPLEMENTATION: \" + str(our_min_loop_dist) + \"\\n\")\n",
    "  sys.stdout.write(\"PAIRINGS VALID: \" + str(check_valid_pairings(input_strand, pairs)) + \"\\n\")\n",
    "  sys.stdout.write(\"PSEUDOKNOTS PRESENT: \" + str(check_for_knots) + \"\\n\\n\")\n"
   ]
  },
  {
   "cell_type": "code",
   "execution_count": 15,
   "metadata": {
    "id": "5FbLK4J5UNUU"
   },
   "outputs": [],
   "source": [
    "def get_reference_score(s):\n",
    "    \"\"\"Return number of pairings given secondary structure\"\"\"\n",
    "    counter = 0\n",
    "    s = [c for c in s]\n",
    "    for c in s:\n",
    "        if c == '(': # each open parenthesis corresponds to a pairing\n",
    "            counter += 1\n",
    "          \n",
    "    return counter"
   ]
  },
  {
   "cell_type": "markdown",
   "metadata": {
    "id": "R_8Fn_jPPhtl"
   },
   "source": [
    "**Results of Our Implemntation VS Benchmark Data Outputs**"
   ]
  },
  {
   "cell_type": "code",
   "execution_count": 16,
   "metadata": {
    "colab": {
     "base_uri": "https://localhost:8080/"
    },
    "id": "n6E23anupGqi",
    "outputId": "e0a41aea-148b-4bf1-c731-b2fcdfdf01a1"
   },
   "outputs": [
    {
     "name": "stdout",
     "output_type": "stream",
     "text": [
      "INPUT RNA STRAND: GUUUCCAUCCCCGUGAGGGGAAUAAGUGUUUUGAA\n",
      "MINIMUM LOOP LENGTH: 4\n",
      "OPTIMAL SECONDARY STRUCTURE: - - ( ( - ( - ( ( ( ( ( - - - - ) ) ) ) ) ( - ( ( - - - - ) ) ) ) ) )\n",
      "MAXIMAL NUMBER OF NUCLEOTIDE PAIRINGS: 11\n",
      "DP TABLE: \n",
      "\n",
      "+----+-----+-----+-----+-----+-----+-----+-----+-----+-----+-----+------+------+------+------+------+------+------+------+------+------+------+------+------+------+------+------+------+------+------+------+------+------+------+------+------+\n",
      "|    |   0 |   1 |   2 |   3 |   4 |   5 |   6 |   7 |   8 |   9 |   10 |   11 |   12 |   13 |   14 |   15 |   16 |   17 |   18 |   19 |   20 |   21 |   22 |   23 |   24 |   25 |   26 |   27 |   28 |   29 |   30 |   31 |   32 |   33 |   34 |\n",
      "|----+-----+-----+-----+-----+-----+-----+-----+-----+-----+-----+------+------+------+------+------+------+------+------+------+------+------+------+------+------+------+------+------+------+------+------+------+------+------+------+------|\n",
      "|  0 |   0 |   0 |   0 |   0 |   0 |   1 |   1 |   1 |   2 |   2 |    2 |    2 |    2 |    2 |    3 |    3 |    3 |    4 |    5 |    5 |    6 |    6 |    7 |    7 |    8 |    8 |    8 |    8 |    8 |    8 |    9 |    9 |    9 |   10 |   11 |\n",
      "|  1 |   0 |   0 |   0 |   0 |   0 |   0 |   1 |   1 |   1 |   1 |    1 |    1 |    1 |    1 |    2 |    3 |    3 |    4 |    4 |    5 |    6 |    6 |    6 |    7 |    8 |    8 |    8 |    8 |    8 |    8 |    8 |    9 |    9 |   10 |   11 |\n",
      "|  2 |   0 |   0 |   0 |   0 |   0 |   0 |   0 |   0 |   0 |   0 |    0 |    0 |    1 |    1 |    2 |    3 |    3 |    4 |    4 |    4 |    5 |    6 |    6 |    7 |    8 |    8 |    8 |    8 |    8 |    8 |    8 |    8 |    9 |   10 |   11 |\n",
      "|  3 |   0 |   0 |   0 |   0 |   0 |   0 |   0 |   0 |   0 |   0 |    0 |    0 |    1 |    1 |    2 |    3 |    3 |    4 |    4 |    4 |    5 |    6 |    6 |    7 |    7 |    7 |    7 |    8 |    8 |    8 |    8 |    8 |    9 |   10 |   10 |\n",
      "|  4 |   0 |   0 |   0 |   0 |   0 |   0 |   0 |   0 |   0 |   0 |    0 |    0 |    1 |    1 |    2 |    2 |    3 |    4 |    4 |    4 |    5 |    5 |    6 |    6 |    6 |    7 |    7 |    8 |    8 |    8 |    8 |    8 |    9 |    9 |    9 |\n",
      "|  5 |   0 |   0 |   0 |   0 |   0 |   0 |   0 |   0 |   0 |   0 |    0 |    0 |    1 |    1 |    2 |    2 |    3 |    3 |    3 |    4 |    5 |    5 |    6 |    6 |    6 |    7 |    7 |    7 |    7 |    7 |    8 |    8 |    9 |    9 |    9 |\n",
      "|  6 |   0 |   0 |   0 |   0 |   0 |   0 |   0 |   0 |   0 |   0 |    0 |    0 |    0 |    1 |    1 |    2 |    2 |    2 |    3 |    4 |    5 |    5 |    6 |    6 |    6 |    6 |    6 |    6 |    7 |    7 |    8 |    8 |    8 |    8 |    8 |\n",
      "|  7 |   0 |   0 |   0 |   0 |   0 |   0 |   0 |   0 |   0 |   0 |    0 |    0 |    0 |    0 |    1 |    2 |    2 |    2 |    3 |    4 |    5 |    5 |    5 |    5 |    5 |    5 |    6 |    6 |    6 |    7 |    7 |    8 |    8 |    8 |    8 |\n",
      "|  8 |   0 |   0 |   0 |   0 |   0 |   0 |   0 |   0 |   0 |   0 |    0 |    0 |    0 |    0 |    1 |    1 |    2 |    2 |    3 |    4 |    4 |    4 |    4 |    4 |    4 |    4 |    5 |    5 |    6 |    6 |    7 |    7 |    7 |    7 |    7 |\n",
      "|  9 |   0 |   0 |   0 |   0 |   0 |   0 |   0 |   0 |   0 |   0 |    0 |    0 |    0 |    0 |    1 |    1 |    1 |    2 |    3 |    3 |    3 |    3 |    3 |    3 |    3 |    3 |    4 |    4 |    5 |    5 |    6 |    6 |    6 |    6 |    6 |\n",
      "| 10 |   0 |   0 |   0 |   0 |   0 |   0 |   0 |   0 |   0 |   0 |    0 |    0 |    0 |    0 |    0 |    0 |    1 |    2 |    2 |    2 |    2 |    2 |    2 |    2 |    2 |    3 |    3 |    4 |    4 |    4 |    5 |    5 |    5 |    5 |    5 |\n",
      "| 11 |   0 |   0 |   0 |   0 |   0 |   0 |   0 |   0 |   0 |   0 |    0 |    0 |    0 |    0 |    0 |    0 |    1 |    1 |    1 |    1 |    1 |    1 |    1 |    2 |    2 |    3 |    3 |    3 |    3 |    3 |    4 |    4 |    5 |    5 |    5 |\n",
      "| 12 |   0 |   0 |   0 |   0 |   0 |   0 |   0 |   0 |   0 |   0 |    0 |    0 |    0 |    0 |    0 |    0 |    0 |    0 |    0 |    0 |    1 |    1 |    1 |    2 |    2 |    2 |    2 |    2 |    2 |    3 |    3 |    4 |    4 |    5 |    5 |\n",
      "| 13 |   0 |   0 |   0 |   0 |   0 |   0 |   0 |   0 |   0 |   0 |    0 |    0 |    0 |    0 |    0 |    0 |    0 |    0 |    0 |    0 |    1 |    1 |    1 |    2 |    2 |    2 |    2 |    2 |    2 |    3 |    3 |    4 |    4 |    5 |    5 |\n",
      "| 14 |   0 |   0 |   0 |   0 |   0 |   0 |   0 |   0 |   0 |   0 |    0 |    0 |    0 |    0 |    0 |    0 |    0 |    0 |    0 |    0 |    0 |    0 |    1 |    1 |    1 |    1 |    1 |    1 |    2 |    3 |    3 |    4 |    4 |    4 |    4 |\n",
      "| 15 |   0 |   0 |   0 |   0 |   0 |   0 |   0 |   0 |   0 |   0 |    0 |    0 |    0 |    0 |    0 |    0 |    0 |    0 |    0 |    0 |    0 |    0 |    1 |    1 |    1 |    1 |    1 |    1 |    2 |    3 |    3 |    4 |    4 |    4 |    4 |\n",
      "| 16 |   0 |   0 |   0 |   0 |   0 |   0 |   0 |   0 |   0 |   0 |    0 |    0 |    0 |    0 |    0 |    0 |    0 |    0 |    0 |    0 |    0 |    0 |    0 |    0 |    0 |    0 |    1 |    1 |    2 |    2 |    3 |    3 |    3 |    3 |    3 |\n",
      "| 17 |   0 |   0 |   0 |   0 |   0 |   0 |   0 |   0 |   0 |   0 |    0 |    0 |    0 |    0 |    0 |    0 |    0 |    0 |    0 |    0 |    0 |    0 |    0 |    0 |    0 |    0 |    1 |    1 |    2 |    2 |    3 |    3 |    3 |    3 |    3 |\n",
      "| 18 |   0 |   0 |   0 |   0 |   0 |   0 |   0 |   0 |   0 |   0 |    0 |    0 |    0 |    0 |    0 |    0 |    0 |    0 |    0 |    0 |    0 |    0 |    0 |    0 |    0 |    0 |    1 |    1 |    2 |    2 |    3 |    3 |    3 |    3 |    3 |\n",
      "| 19 |   0 |   0 |   0 |   0 |   0 |   0 |   0 |   0 |   0 |   0 |    0 |    0 |    0 |    0 |    0 |    0 |    0 |    0 |    0 |    0 |    0 |    0 |    0 |    0 |    0 |    0 |    1 |    1 |    2 |    2 |    3 |    3 |    3 |    3 |    3 |\n",
      "| 20 |   0 |   0 |   0 |   0 |   0 |   0 |   0 |   0 |   0 |   0 |    0 |    0 |    0 |    0 |    0 |    0 |    0 |    0 |    0 |    0 |    0 |    0 |    0 |    0 |    0 |    0 |    1 |    1 |    2 |    2 |    3 |    3 |    3 |    3 |    3 |\n",
      "| 21 |   0 |   0 |   0 |   0 |   0 |   0 |   0 |   0 |   0 |   0 |    0 |    0 |    0 |    0 |    0 |    0 |    0 |    0 |    0 |    0 |    0 |    0 |    0 |    0 |    0 |    0 |    1 |    1 |    1 |    2 |    2 |    3 |    3 |    3 |    3 |\n",
      "| 22 |   0 |   0 |   0 |   0 |   0 |   0 |   0 |   0 |   0 |   0 |    0 |    0 |    0 |    0 |    0 |    0 |    0 |    0 |    0 |    0 |    0 |    0 |    0 |    0 |    0 |    0 |    0 |    0 |    1 |    1 |    2 |    2 |    2 |    3 |    3 |\n",
      "| 23 |   0 |   0 |   0 |   0 |   0 |   0 |   0 |   0 |   0 |   0 |    0 |    0 |    0 |    0 |    0 |    0 |    0 |    0 |    0 |    0 |    0 |    0 |    0 |    0 |    0 |    0 |    0 |    0 |    1 |    1 |    2 |    2 |    2 |    2 |    2 |\n",
      "| 24 |   0 |   0 |   0 |   0 |   0 |   0 |   0 |   0 |   0 |   0 |    0 |    0 |    0 |    0 |    0 |    0 |    0 |    0 |    0 |    0 |    0 |    0 |    0 |    0 |    0 |    0 |    0 |    0 |    0 |    1 |    1 |    1 |    1 |    1 |    2 |\n",
      "| 25 |   0 |   0 |   0 |   0 |   0 |   0 |   0 |   0 |   0 |   0 |    0 |    0 |    0 |    0 |    0 |    0 |    0 |    0 |    0 |    0 |    0 |    0 |    0 |    0 |    0 |    0 |    0 |    0 |    0 |    0 |    0 |    0 |    0 |    1 |    2 |\n",
      "| 26 |   0 |   0 |   0 |   0 |   0 |   0 |   0 |   0 |   0 |   0 |    0 |    0 |    0 |    0 |    0 |    0 |    0 |    0 |    0 |    0 |    0 |    0 |    0 |    0 |    0 |    0 |    0 |    0 |    0 |    0 |    0 |    0 |    0 |    1 |    2 |\n",
      "| 27 |   0 |   0 |   0 |   0 |   0 |   0 |   0 |   0 |   0 |   0 |    0 |    0 |    0 |    0 |    0 |    0 |    0 |    0 |    0 |    0 |    0 |    0 |    0 |    0 |    0 |    0 |    0 |    0 |    0 |    0 |    0 |    0 |    0 |    1 |    1 |\n",
      "| 28 |   0 |   0 |   0 |   0 |   0 |   0 |   0 |   0 |   0 |   0 |    0 |    0 |    0 |    0 |    0 |    0 |    0 |    0 |    0 |    0 |    0 |    0 |    0 |    0 |    0 |    0 |    0 |    0 |    0 |    0 |    0 |    0 |    0 |    1 |    1 |\n",
      "| 29 |   0 |   0 |   0 |   0 |   0 |   0 |   0 |   0 |   0 |   0 |    0 |    0 |    0 |    0 |    0 |    0 |    0 |    0 |    0 |    0 |    0 |    0 |    0 |    0 |    0 |    0 |    0 |    0 |    0 |    0 |    0 |    0 |    0 |    0 |    1 |\n",
      "| 30 |   0 |   0 |   0 |   0 |   0 |   0 |   0 |   0 |   0 |   0 |    0 |    0 |    0 |    0 |    0 |    0 |    0 |    0 |    0 |    0 |    0 |    0 |    0 |    0 |    0 |    0 |    0 |    0 |    0 |    0 |    0 |    0 |    0 |    0 |    0 |\n",
      "| 31 |   0 |   0 |   0 |   0 |   0 |   0 |   0 |   0 |   0 |   0 |    0 |    0 |    0 |    0 |    0 |    0 |    0 |    0 |    0 |    0 |    0 |    0 |    0 |    0 |    0 |    0 |    0 |    0 |    0 |    0 |    0 |    0 |    0 |    0 |    0 |\n",
      "| 32 |   0 |   0 |   0 |   0 |   0 |   0 |   0 |   0 |   0 |   0 |    0 |    0 |    0 |    0 |    0 |    0 |    0 |    0 |    0 |    0 |    0 |    0 |    0 |    0 |    0 |    0 |    0 |    0 |    0 |    0 |    0 |    0 |    0 |    0 |    0 |\n",
      "| 33 |   0 |   0 |   0 |   0 |   0 |   0 |   0 |   0 |   0 |   0 |    0 |    0 |    0 |    0 |    0 |    0 |    0 |    0 |    0 |    0 |    0 |    0 |    0 |    0 |    0 |    0 |    0 |    0 |    0 |    0 |    0 |    0 |    0 |    0 |    0 |\n",
      "| 34 |   0 |   0 |   0 |   0 |   0 |   0 |   0 |   0 |   0 |   0 |    0 |    0 |    0 |    0 |    0 |    0 |    0 |    0 |    0 |    0 |    0 |    0 |    0 |    0 |    0 |    0 |    0 |    0 |    0 |    0 |    0 |    0 |    0 |    0 |    0 |\n",
      "+----+-----+-----+-----+-----+-----+-----+-----+-----+-----+-----+------+------+------+------+------+------+------+------+------+------+------+------+------+------+------+------+------+------+------+------+------+------+------+------+------+\n",
      "True\n"
     ]
    }
   ],
   "source": [
    "input = 'GUUUCCAUCCCCGUGAGGGGAAUAAGUGUUUUGAA'\n",
    "# input = 'AUCAUAACCGUUCAGGUAACCGCUGCAUCGCAUGCGAUGU'\n",
    "loop_len = 4\n",
    "dp, ms, pairs, final = nussinov(input, loop_len)\n",
    "print_nussinov_output_nicely(input, loop_len, dp, ms, final)\n",
    "print(check_valid_pairings(input, pairs))\n"
   ]
  },
  {
   "cell_type": "code",
   "execution_count": 104,
   "metadata": {
    "colab": {
     "base_uri": "https://localhost:8080/"
    },
    "id": "zPM6krVLSGuX",
    "outputId": "7756483f-5c19-449d-b95b-4c38b814d024",
    "scrolled": true
   },
   "outputs": [
    {
     "name": "stdout",
     "output_type": "stream",
     "text": [
      "INPUT RNA STRAND: GAGGAAAGUCCCGCCUCCUGGCCUAAAGGAGUCUCUAUAGAGACAAGGGCAACACCCUUGGCAACUAUACAGAAACAAGUACCUUGAAAGCUACAUGUGAAAAUGAUUGUGCCCCUUCCUCUGGUAACGGAGGAAGAAACAUGAGAGUAGCUUUCAAGGAUGAAAAGAUAGACCUCCUAGGAGCAAGUAGAGGGAAAGAUGAGACUAGGCCCGAUUUCCCUCUAGGACGCAUAGCCAAAUCCCCCAACCAUUACAAAAGCGGGCUUA\n",
      "NUMBER OF PAIRINGS IN BENCHMARK DATASET: 65\n",
      "NUMBER OF PAIRINGS PREDICTED IN OUR IMPLEMENTATION: 90\n",
      "MIN LOOP DISTANCE IN BENCHMARK DATASET: 4\n",
      "MIN LOOP DISTANCE IN OUR IMPLEMENTATION: 5\n",
      "PAIRINGS VALID: True\n",
      "PSEUDOKNOTS PRESENT: False\n",
      "\n",
      "INPUT RNA STRAND: GAGGAAAGUCCGGGCUCCAUAGGGCAGAGUGCCAGGUAACGCCUGGGAGGCGUGAGCCUACGGAAAGUGCCACAGAAAACAACCGCCUAAGUGCGCAAGCGCCGGUAAGGGUGAAAAGGUGCGGUAAGAGCGCACCGCACGGCUGGCAACAGUCCGUGGCUAGGUAAACCCCACUCGGAGCAAGACCAAAUAGGGAUCCGUUGGCGUGGCCCGCGCUGGAUCCGGGUAGGUUGCUAGAGGCGGCCAGCGAUGGUCGUCGUAGAGGAAUGACUGUCCUCGACAGAACCCGGCUUA\n",
      "NUMBER OF PAIRINGS IN BENCHMARK DATASET: 81\n",
      "NUMBER OF PAIRINGS PREDICTED IN OUR IMPLEMENTATION: 97\n",
      "MIN LOOP DISTANCE IN BENCHMARK DATASET: 5\n",
      "MIN LOOP DISTANCE IN OUR IMPLEMENTATION: 5\n",
      "PAIRINGS VALID: True\n",
      "PSEUDOKNOTS PRESENT: False\n",
      "\n",
      "INPUT RNA STRAND: CACAGAGCACGGUGGUGGCCAACAGCCACCCACGGCGACGUGCGGGACAGUGCCACAGAGAACAGACCGCCAGCGGCCCCGCGGCCUUCGGGCCACGGGGUGCGGGCAAGGGUGAAACGGUGAGGUAAGAGCUCACCAGCGACGUCGGCGACGGCGUCGGCUCGGUAAACCCCACCGGGAGCAAGACCAAGAGGGCGCUCCGGCGCCUGCGCUGACGGGCUGCUCGUCCGACGUCAGCGGGUAGGUCGCUCGAGGCACGCAGCAAUGCGUGACCCAGAUGGAUGGUCGCCCCCCAGCCCUCGGGCCGGGG\n",
      "NUMBER OF PAIRINGS IN BENCHMARK DATASET: 90\n",
      "NUMBER OF PAIRINGS PREDICTED IN OUR IMPLEMENTATION: 107\n",
      "MIN LOOP DISTANCE IN BENCHMARK DATASET: 5\n",
      "MIN LOOP DISTANCE IN OUR IMPLEMENTATION: 5\n",
      "PAIRINGS VALID: True\n",
      "PSEUDOKNOTS PRESENT: False\n",
      "\n",
      "INPUT RNA STRAND: AAAGCAGGCCAGGCAACCGCUGCCUGCACCGCAAGGUGCAGGGGGAGGAAAGUCCGGACUCCACAGGGCAGGGUGUUGGCUAACAGCCAUCCACGGCAACGUGCGGAAUAGGGCCACAGAGACGAGUCUUGCCGCCGGGUUCGCCCGGCGGGAAGGGUGAAACGCGGUAACCUCCACCUGGAGCAAUCCCAAAUAGGCAGGCGAUGAAGCGGCCCGCUGAGUCUGCGGGUAGGGAGCUGGAGCCGGCUGGUAACAGCCGGCCUAGAGGAAUGGUUGUCACGCACCGUUUGCCGCAAGGCGGGCGGGGCGCACAGAAUCCGGCUUAUCGGCCUGCUUUGCUU\n",
      "NUMBER OF PAIRINGS IN BENCHMARK DATASET: 99\n",
      "NUMBER OF PAIRINGS PREDICTED IN OUR IMPLEMENTATION: 118\n",
      "MIN LOOP DISTANCE IN BENCHMARK DATASET: 4\n",
      "MIN LOOP DISTANCE IN OUR IMPLEMENTATION: 5\n",
      "PAIRINGS VALID: True\n",
      "PSEUDOKNOTS PRESENT: False\n",
      "\n",
      "INPUT RNA STRAND: CACAGAGCAACGGUGGUGGCUAACGGCCACCCACGGCGACGUGCGGGACAGUGCCACAGAAAUCAGACCGCCAGCGGCCGCCGCUCCUCGGAGCAGCGGUGCGGGUAAGGGUGAAACGGUGAGGUAAGAGCUCACCAGCGCUCCGGGUGACCGGGGCGGCUAGGUAAACCCCACCGGGAGCAAGACCAAGAGAGUCGCGUGGCGCUUCGGCGGUGCACGGCUUGCGCUGACGGGCUGCUCGUCCGAUGUCAGCGGGUAGGUUGCACGAGGCGUCCAGCAAUGGGCGUCCCAGAUGGAUGGUCGCCCACG\n",
      "NUMBER OF PAIRINGS IN BENCHMARK DATASET: 88\n",
      "NUMBER OF PAIRINGS PREDICTED IN OUR IMPLEMENTATION: 106\n",
      "MIN LOOP DISTANCE IN BENCHMARK DATASET: 5\n",
      "MIN LOOP DISTANCE IN OUR IMPLEMENTATION: 5\n",
      "PAIRINGS VALID: True\n",
      "PSEUDOKNOTS PRESENT: False\n",
      "\n"
     ]
    },
    {
     "ename": "KeyboardInterrupt",
     "evalue": "",
     "output_type": "error",
     "traceback": [
      "\u001b[0;31m---------------------------------------------------------------------------\u001b[0m",
      "\u001b[0;31mKeyboardInterrupt\u001b[0m                         Traceback (most recent call last)",
      "\u001b[0;32m<ipython-input-104-a455b96bf41b>\u001b[0m in \u001b[0;36m<module>\u001b[0;34m\u001b[0m\n\u001b[1;32m      8\u001b[0m   \u001b[0moriginal_strand\u001b[0m \u001b[0;34m=\u001b[0m \u001b[0moriginal_strand\u001b[0m\u001b[0;34m.\u001b[0m\u001b[0mupper\u001b[0m\u001b[0;34m(\u001b[0m\u001b[0;34m)\u001b[0m\u001b[0;34m\u001b[0m\u001b[0m\n\u001b[1;32m      9\u001b[0m   \u001b[0mpaper_secondary_structure\u001b[0m \u001b[0;34m=\u001b[0m \u001b[0mfile_as_list\u001b[0m\u001b[0;34m[\u001b[0m\u001b[0mi\u001b[0m \u001b[0;34m+\u001b[0m \u001b[0;36m2\u001b[0m\u001b[0;34m]\u001b[0m\u001b[0;34m.\u001b[0m\u001b[0mstrip\u001b[0m\u001b[0;34m(\u001b[0m\u001b[0;34m)\u001b[0m \u001b[0;31m# given to us from the paper\u001b[0m\u001b[0;34m\u001b[0m\u001b[0m\n\u001b[0;32m---> 10\u001b[0;31m   \u001b[0mdp\u001b[0m\u001b[0;34m,\u001b[0m \u001b[0mm_score\u001b[0m\u001b[0;34m,\u001b[0m \u001b[0mpairs\u001b[0m\u001b[0;34m,\u001b[0m \u001b[0mpredicted_structure\u001b[0m \u001b[0;34m=\u001b[0m \u001b[0mnussinov\u001b[0m\u001b[0;34m(\u001b[0m\u001b[0moriginal_strand\u001b[0m\u001b[0;34m,\u001b[0m \u001b[0;36m5\u001b[0m\u001b[0;34m)\u001b[0m\u001b[0;34m\u001b[0m\u001b[0m\n\u001b[0m\u001b[1;32m     11\u001b[0m   \u001b[0mreference_score\u001b[0m \u001b[0;34m=\u001b[0m \u001b[0mget_reference_score\u001b[0m\u001b[0;34m(\u001b[0m\u001b[0mpaper_secondary_structure\u001b[0m\u001b[0;34m)\u001b[0m\u001b[0;34m\u001b[0m\u001b[0m\n\u001b[1;32m     12\u001b[0m   \u001b[0mcheck_for_knots\u001b[0m \u001b[0;34m=\u001b[0m \u001b[0mcheck_pseudoknots\u001b[0m\u001b[0;34m(\u001b[0m\u001b[0mpairs\u001b[0m\u001b[0;34m)\u001b[0m\u001b[0;34m\u001b[0m\u001b[0m\n",
      "\u001b[0;32m<ipython-input-7-f80f28df4d3e>\u001b[0m in \u001b[0;36mnussinov\u001b[0;34m(rna_strand, loop_parameter)\u001b[0m\n\u001b[1;32m     24\u001b[0m   \"\"\"\n\u001b[1;32m     25\u001b[0m   \u001b[0mrna_strand\u001b[0m \u001b[0;34m=\u001b[0m \u001b[0mvalidate_sequence\u001b[0m\u001b[0;34m(\u001b[0m\u001b[0mrna_strand\u001b[0m\u001b[0;34m)\u001b[0m\u001b[0;34m\u001b[0m\u001b[0m\n\u001b[0;32m---> 26\u001b[0;31m   \u001b[0mdp_table\u001b[0m\u001b[0;34m,\u001b[0m \u001b[0mmax_score\u001b[0m \u001b[0;34m=\u001b[0m \u001b[0mfill_dp_table\u001b[0m\u001b[0;34m(\u001b[0m\u001b[0mrna_strand\u001b[0m\u001b[0;34m,\u001b[0m \u001b[0mloop_parameter\u001b[0m\u001b[0;34m)\u001b[0m\u001b[0;34m\u001b[0m\u001b[0m\n\u001b[0m\u001b[1;32m     27\u001b[0m   \u001b[0mpairings\u001b[0m \u001b[0;34m=\u001b[0m \u001b[0mtraceback\u001b[0m\u001b[0;34m(\u001b[0m\u001b[0mrna_strand\u001b[0m\u001b[0;34m,\u001b[0m \u001b[0mdp_table\u001b[0m\u001b[0;34m)\u001b[0m\u001b[0;34m\u001b[0m\u001b[0m\n\u001b[1;32m     28\u001b[0m   \u001b[0mdash_structure\u001b[0m \u001b[0;34m=\u001b[0m \u001b[0mformat_pairings\u001b[0m\u001b[0;34m(\u001b[0m\u001b[0mrna_strand\u001b[0m\u001b[0;34m,\u001b[0m \u001b[0mpairings\u001b[0m\u001b[0;34m)\u001b[0m\u001b[0;34m\u001b[0m\u001b[0m\n",
      "\u001b[0;32m<ipython-input-5-67ef2cad63ce>\u001b[0m in \u001b[0;36mfill_dp_table\u001b[0;34m(rna_strand, hairpin_loop_min)\u001b[0m\n\u001b[1;32m     34\u001b[0m         \u001b[0mi_unpaired\u001b[0m \u001b[0;34m=\u001b[0m \u001b[0mdp\u001b[0m\u001b[0;34m[\u001b[0m\u001b[0mi\u001b[0m \u001b[0;34m+\u001b[0m \u001b[0;36m1\u001b[0m\u001b[0;34m]\u001b[0m\u001b[0;34m[\u001b[0m\u001b[0mj\u001b[0m\u001b[0;34m]\u001b[0m\u001b[0;34m\u001b[0m\u001b[0m\n\u001b[1;32m     35\u001b[0m         \u001b[0mj_unpaired\u001b[0m \u001b[0;34m=\u001b[0m \u001b[0mdp\u001b[0m\u001b[0;34m[\u001b[0m\u001b[0mi\u001b[0m\u001b[0;34m]\u001b[0m\u001b[0;34m[\u001b[0m\u001b[0mj\u001b[0m \u001b[0;34m-\u001b[0m\u001b[0;36m1\u001b[0m\u001b[0;34m]\u001b[0m\u001b[0;34m\u001b[0m\u001b[0m\n\u001b[0;32m---> 36\u001b[0;31m         \u001b[0mbifurcation\u001b[0m \u001b[0;34m=\u001b[0m \u001b[0mmax\u001b[0m\u001b[0;34m(\u001b[0m\u001b[0;34m[\u001b[0m\u001b[0mdp\u001b[0m\u001b[0;34m[\u001b[0m\u001b[0mi\u001b[0m\u001b[0;34m]\u001b[0m\u001b[0;34m[\u001b[0m\u001b[0mk\u001b[0m\u001b[0;34m]\u001b[0m \u001b[0;34m+\u001b[0m \u001b[0mdp\u001b[0m\u001b[0;34m[\u001b[0m\u001b[0mk\u001b[0m \u001b[0;34m+\u001b[0m \u001b[0;36m1\u001b[0m\u001b[0;34m]\u001b[0m\u001b[0;34m[\u001b[0m\u001b[0mj\u001b[0m\u001b[0;34m]\u001b[0m \u001b[0;32mfor\u001b[0m \u001b[0mk\u001b[0m \u001b[0;32min\u001b[0m \u001b[0mrange\u001b[0m \u001b[0;34m(\u001b[0m\u001b[0mi\u001b[0m\u001b[0;34m,\u001b[0m \u001b[0mj\u001b[0m\u001b[0;34m)\u001b[0m\u001b[0;34m]\u001b[0m\u001b[0;34m)\u001b[0m\u001b[0;34m\u001b[0m\u001b[0m\n\u001b[0m\u001b[1;32m     37\u001b[0m \u001b[0;34m\u001b[0m\u001b[0m\n\u001b[1;32m     38\u001b[0m         \u001b[0mdp\u001b[0m\u001b[0;34m[\u001b[0m\u001b[0mi\u001b[0m\u001b[0;34m]\u001b[0m\u001b[0;34m[\u001b[0m\u001b[0mj\u001b[0m\u001b[0;34m]\u001b[0m \u001b[0;34m=\u001b[0m \u001b[0mmax\u001b[0m\u001b[0;34m(\u001b[0m\u001b[0mi_j_paired\u001b[0m\u001b[0;34m,\u001b[0m \u001b[0mi_unpaired\u001b[0m\u001b[0;34m,\u001b[0m \u001b[0mj_unpaired\u001b[0m\u001b[0;34m,\u001b[0m \u001b[0mbifurcation\u001b[0m\u001b[0;34m)\u001b[0m\u001b[0;34m\u001b[0m\u001b[0m\n",
      "\u001b[0;32m<ipython-input-5-67ef2cad63ce>\u001b[0m in \u001b[0;36m<listcomp>\u001b[0;34m(.0)\u001b[0m\n\u001b[1;32m     34\u001b[0m         \u001b[0mi_unpaired\u001b[0m \u001b[0;34m=\u001b[0m \u001b[0mdp\u001b[0m\u001b[0;34m[\u001b[0m\u001b[0mi\u001b[0m \u001b[0;34m+\u001b[0m \u001b[0;36m1\u001b[0m\u001b[0;34m]\u001b[0m\u001b[0;34m[\u001b[0m\u001b[0mj\u001b[0m\u001b[0;34m]\u001b[0m\u001b[0;34m\u001b[0m\u001b[0m\n\u001b[1;32m     35\u001b[0m         \u001b[0mj_unpaired\u001b[0m \u001b[0;34m=\u001b[0m \u001b[0mdp\u001b[0m\u001b[0;34m[\u001b[0m\u001b[0mi\u001b[0m\u001b[0;34m]\u001b[0m\u001b[0;34m[\u001b[0m\u001b[0mj\u001b[0m \u001b[0;34m-\u001b[0m\u001b[0;36m1\u001b[0m\u001b[0;34m]\u001b[0m\u001b[0;34m\u001b[0m\u001b[0m\n\u001b[0;32m---> 36\u001b[0;31m         \u001b[0mbifurcation\u001b[0m \u001b[0;34m=\u001b[0m \u001b[0mmax\u001b[0m\u001b[0;34m(\u001b[0m\u001b[0;34m[\u001b[0m\u001b[0mdp\u001b[0m\u001b[0;34m[\u001b[0m\u001b[0mi\u001b[0m\u001b[0;34m]\u001b[0m\u001b[0;34m[\u001b[0m\u001b[0mk\u001b[0m\u001b[0;34m]\u001b[0m \u001b[0;34m+\u001b[0m \u001b[0mdp\u001b[0m\u001b[0;34m[\u001b[0m\u001b[0mk\u001b[0m \u001b[0;34m+\u001b[0m \u001b[0;36m1\u001b[0m\u001b[0;34m]\u001b[0m\u001b[0;34m[\u001b[0m\u001b[0mj\u001b[0m\u001b[0;34m]\u001b[0m \u001b[0;32mfor\u001b[0m \u001b[0mk\u001b[0m \u001b[0;32min\u001b[0m \u001b[0mrange\u001b[0m \u001b[0;34m(\u001b[0m\u001b[0mi\u001b[0m\u001b[0;34m,\u001b[0m \u001b[0mj\u001b[0m\u001b[0;34m)\u001b[0m\u001b[0;34m]\u001b[0m\u001b[0;34m)\u001b[0m\u001b[0;34m\u001b[0m\u001b[0m\n\u001b[0m\u001b[1;32m     37\u001b[0m \u001b[0;34m\u001b[0m\u001b[0m\n\u001b[1;32m     38\u001b[0m         \u001b[0mdp\u001b[0m\u001b[0;34m[\u001b[0m\u001b[0mi\u001b[0m\u001b[0;34m]\u001b[0m\u001b[0;34m[\u001b[0m\u001b[0mj\u001b[0m\u001b[0;34m]\u001b[0m \u001b[0;34m=\u001b[0m \u001b[0mmax\u001b[0m\u001b[0;34m(\u001b[0m\u001b[0mi_j_paired\u001b[0m\u001b[0;34m,\u001b[0m \u001b[0mi_unpaired\u001b[0m\u001b[0;34m,\u001b[0m \u001b[0mj_unpaired\u001b[0m\u001b[0;34m,\u001b[0m \u001b[0mbifurcation\u001b[0m\u001b[0;34m)\u001b[0m\u001b[0;34m\u001b[0m\u001b[0m\n",
      "\u001b[0;31mKeyboardInterrupt\u001b[0m: "
     ]
    }
   ],
   "source": [
    "benchmark_data = \"../data/S-Full-Train.txt\"\n",
    "test_file = open(benchmark_data, \"r\")\n",
    "file_as_list = test_file.readlines()\n",
    "n_samples = 30\n",
    "\n",
    "for i in range(0, 5*n_samples, 5): # iterate through n test samples\n",
    "  original_strand = file_as_list[i + 1].strip()\n",
    "  original_strand = original_strand.upper()\n",
    "  paper_secondary_structure = file_as_list[i + 2].strip() # given to us from the paper\n",
    "  dp, m_score, pairs, predicted_structure = nussinov(original_strand, 5)\n",
    "  reference_score = get_reference_score(paper_secondary_structure)\n",
    "  check_for_knots = check_pseudoknots(pairs)\n",
    "  our_min_loop_dist = compute_min_loop_dist(predicted_structure)\n",
    "  paper_min_loop_dist = compute_min_loop_dist(paper_secondary_structure)\n",
    "    \n",
    "  sys.stdout.write(\"INPUT RNA STRAND: \" + original_strand + \"\\n\")\n",
    "  sys.stdout.write(\"NUMBER OF PAIRINGS IN BENCHMARK DATASET: \" + str(reference_score) + \"\\n\")\n",
    "  sys.stdout.write(\"NUMBER OF PAIRINGS PREDICTED IN OUR IMPLEMENTATION: \" + str(m_score) + \"\\n\")\n",
    "  sys.stdout.write(\"MIN LOOP DISTANCE IN BENCHMARK DATASET: \" + str(paper_min_loop_dist) + \"\\n\")\n",
    "  sys.stdout.write(\"MIN LOOP DISTANCE IN OUR IMPLEMENTATION: \" + str(our_min_loop_dist) + \"\\n\")\n",
    "  sys.stdout.write(\"PAIRINGS VALID: \" + str(check_valid_pairings(original_strand, pairs)) + \"\\n\")\n",
    "  sys.stdout.write(\"PSEUDOKNOTS PRESENT: \" + str(check_for_knots) + \"\\n\\n\")\n"
   ]
  },
  {
   "cell_type": "code",
   "execution_count": 135,
   "metadata": {},
   "outputs": [
    {
     "data": {
      "image/png": "[encoded data removed]",
      "text/plain": [
       "<Figure size 432x288 with 1 Axes>"
      ]
     },
     "metadata": {
      "needs_background": "light"
     },
     "output_type": "display_data"
    },
    {
     "data": {
      "image/png": "[encoded data removed]",
      "text/plain": [
       "<Figure size 432x288 with 1 Axes>"
      ]
     },
     "metadata": {
      "needs_background": "light"
     },
     "output_type": "display_data"
    },
    {
     "data": {
      "image/png": "[encoded data removed]",
      "text/plain": [
       "<Figure size 432x288 with 1 Axes>"
      ]
     },
     "metadata": {
      "needs_background": "light"
     },
     "output_type": "display_data"
    }
   ],
   "source": [
    "import matplotlib.pyplot as plt\n",
    "import numpy as np\n",
    "from collections import defaultdict\n",
    "import statistics\n",
    "\n",
    "benchmark_data = \"../data/S-Full-Train.txt\"\n",
    "test_file = open(benchmark_data, \"r\")\n",
    "file_as_list = test_file.readlines()\n",
    "n_samples = 100\n",
    "ref_score = []\n",
    "imp_score = []\n",
    "\n",
    "input_strand_length = defaultdict(list)\n",
    "diff_pairing_score = defaultdict(int)\n",
    "percentage_error = defaultdict(int)\n",
    "\n",
    "\n",
    "for i in range(0, 5*n_samples, 5): # iterate through n test samples\n",
    "  original_strand = file_as_list[i + 1].strip()\n",
    "  original_strand = original_strand.upper()\n",
    "  paper_secondary_structure = file_as_list[i + 2].strip() # given to us from the paper\n",
    "  dp, m_score, pairs, predicted_structure = nussinov(original_strand, 5)\n",
    "  reference_score = get_reference_score(paper_secondary_structure)\n",
    "  check_for_knots = check_pseudoknots(pairs)\n",
    "  our_min_loop_dist = compute_min_loop_dist(predicted_structure)\n",
    "  paper_min_loop_dist = compute_min_loop_dist(paper_secondary_structure)\n",
    "    \n",
    "  ref_score.append(int(reference_score))\n",
    "  imp_score.append(int(m_score))\n",
    "    \n",
    "  input_sequence_length = original_strand.strip()\n",
    "  input_sequence_length = [c.upper() for c in input_sequence_length]\n",
    "  input_sequence_length = len(input_sequence_length)\n",
    "  input_strand_length[input_sequence_length].append(diff_pairings)\n",
    "\n",
    "\n",
    "  diff_pairings = abs(m_score-reference_score)\n",
    "  diff_pairing_score[diff_pairings] += 1\n",
    "    \n",
    "  error = abs((m_score - reference_score) / (float(reference_score))) * 100\n",
    "  percentage_error[error] += 1\n",
    "\n",
    "    \n",
    "normalized_scores = defaultdict(list)\n",
    "avg_scores = defaultdict(float)\n",
    "for key, values in input_strand_length.items():\n",
    "    avg_scores[key] = statistics.mean(values)\n",
    "\n",
    "min_value = (min(avg_scores.items(), key=lambda x: x[1]) )[1]\n",
    "max_value = (max(avg_scores.items(), key=lambda x: x[1]) )[1]\n",
    "\n",
    "for key, values in avg_scores.items():\n",
    "    normalized_scores[key] = (values - min_value) / (float(max_value-min_value))\n",
    "    \n",
    "lengths = list(normalized_scores.keys())\n",
    "normalized_diff_scores = list(normalized_scores.values())\n",
    "\n",
    "\n",
    "\n",
    "plt.bar(*zip(*normalized_scores.items()), width=12)\n",
    "plt.title(label=\"RNA Strand Length vs. Diff in Pairings\")\n",
    "plt.xlabel('Input Strand Length')\n",
    "plt.ylabel('Normalized Difference in Pairings')\n",
    "plt.show()\n",
    "\n",
    "\n",
    "\n",
    "\n",
    "diff_pair = diff_pairing_score.keys()\n",
    "diff_freq = diff_pairing_score.values()\n",
    "plt.bar(list(diff_pair), list(diff_freq), color='g')\n",
    "plt.title(label=\"Frequencies of the Number of Pairing Differences\")\n",
    "plt.xlabel('Difference in Pairings')\n",
    "plt.ylabel('Frequency of Difference')\n",
    "plt.show()\n",
    "\n",
    "\n",
    "\n",
    "\n",
    "error = percentage_error.keys()\n",
    "frequency = percentage_error.values()\n",
    "plt.bar(list(error), list(frequency), color='orange')\n",
    "plt.title(label=\"Frenquencies of Percentage Error\")\n",
    "plt.xlabel('Percentage Error')\n",
    "plt.ylabel('Frequency of Error')\n",
    "plt.show()\n"
   ]
  },
  {
   "cell_type": "code",
   "execution_count": null,
   "metadata": {},
   "outputs": [],
   "source": []
  },
  {
   "cell_type": "code",
   "execution_count": null,
   "metadata": {},
   "outputs": [],
   "source": []
  },
  {
   "cell_type": "code",
   "execution_count": 72,
   "metadata": {
    "colab": {
     "base_uri": "https://localhost:8080/"
    },
    "id": "E-vuuzI0K9h4",
    "outputId": "84200d10-8a07-4ce0-d7d0-fcea6f04ad0e"
   },
   "outputs": [
    {
     "name": "stdout",
     "output_type": "stream",
     "text": [
      "INPUT RNA STRAND: CUUUCCACACUAUUUAGUUCUACGGAAAC\n",
      "EXPECTED 2D STRUCTURE: . ( ( ( ( ( . . ( ( ( . . . . ) ) ) . . . . . ) ) ) ) ) .\n",
      "OUR PREDICTED 2ND STR: - ( ( ( ( ( ( - ( ( ( - - - - ) ) ) ) - - - - ) ) ) ) ) -\n",
      "NUMBER OF PAIRINGS IN BENCHMARK DATASET: 8\n",
      "NUMBER OF PAIRINGS PREDICTED IN OUR IMPLEMENTATION: 9\n",
      "MIN LOOP DISTANCE IN BENCHMARK DATASET: 4\n",
      "MIN LOOP DISTANCE IN OUR IMPLEMENTATION: 4\n",
      "PAIRINGS VALID: True\n",
      "PSEUDOKNOTS PRESENT: False\n",
      "\n"
     ]
    }
   ],
   "source": [
    "strand = 'CUUUCCACACUAUUUAGUUCUACGGAAAC'\n",
    "expected = '.(((((..(((....))).....))))).'\n",
    "compare_single_sample(strand, expected)"
   ]
  },
  {
   "cell_type": "code",
   "execution_count": null,
   "metadata": {},
   "outputs": [],
   "source": []
  },
  {
   "cell_type": "code",
   "execution_count": null,
   "metadata": {},
   "outputs": [],
   "source": []
  }
 ],
 "metadata": {
  "colab": {
   "collapsed_sections": [],
   "name": "NussinovAlgorithmWithTesting.ipynb",
   "provenance": []
  },
  "kernelspec": {
   "display_name": "Python 3",
   "language": "python",
   "name": "python3"
  },
  "language_info": {
   "codemirror_mode": {
    "name": "ipython",
    "version": 3
   },
   "file_extension": ".py",
   "mimetype": "text/x-python",
   "name": "python",
   "nbconvert_exporter": "python",
   "pygments_lexer": "ipython3",
   "version": "3.6.5"
  }
 },
 "nbformat": 4,
 "nbformat_minor": 1
}

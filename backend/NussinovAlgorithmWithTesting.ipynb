{
  "nbformat": 4,
  "nbformat_minor": 0,
  "metadata": {
    "colab": {
      "name": "NussinovAlgorithmWithTesting.ipynb",
      "provenance": [],
      "collapsed_sections": []
    },
    "kernelspec": {
      "name": "python3",
      "display_name": "Python 3"
    }
  },
  "cells": [
    {
      "cell_type": "code",
      "metadata": {
        "id": "RJFXoqIdNg5d"
      },
      "source": [
        "import sys\n",
        "import numpy as np\n",
        "import pandas as pd\n",
        "from itertools import compress"
      ],
      "execution_count": null,
      "outputs": []
    },
    {
      "cell_type": "markdown",
      "metadata": {
        "id": "mOLdWwrwOlju"
      },
      "source": [
        "**Methods For Preprocessing**"
      ]
    },
    {
      "cell_type": "code",
      "metadata": {
        "id": "a2kEWuMAVG9L"
      },
      "source": [
        "def validate_sequence(input_sequence):\n",
        "  \"\"\" \n",
        "  Checks whether an input only contains valid nucleotides.\n",
        "  Returns input string as a list of capitalized nucleotides if valid\n",
        "  \"\"\"\n",
        "  valid_chars = ['A', 'U', 'C', 'G']\n",
        "  input_sequence = input_sequence.strip()\n",
        "  input_sequence = [c.upper() for c in input_sequence]\n",
        "\n",
        "  for char in input_sequence:\n",
        "    if char not in valid_chars:\n",
        "      return False\n",
        "  return input_sequence"
      ],
      "execution_count": null,
      "outputs": []
    },
    {
      "cell_type": "code",
      "metadata": {
        "colab": {
          "base_uri": "https://localhost:8080/"
        },
        "id": "aSqz84J-qq64",
        "outputId": "bf5434d0-edbf-4e1b-e9d1-bd10f9777307"
      },
      "source": [
        "validate_sequence(\"augcuGGGCCCU\")"
      ],
      "execution_count": null,
      "outputs": [
        {
          "output_type": "execute_result",
          "data": {
            "text/plain": [
              "['A', 'U', 'G', 'C', 'U', 'G', 'G', 'G', 'C', 'C', 'C', 'U']"
            ]
          },
          "metadata": {
            "tags": []
          },
          "execution_count": 4
        }
      ]
    },
    {
      "cell_type": "code",
      "metadata": {
        "colab": {
          "base_uri": "https://localhost:8080/"
        },
        "id": "Xc3mOaZeq3hA",
        "outputId": "d8e8d522-e16e-44b4-e836-2f711d283052"
      },
      "source": [
        "validate_sequence(\"invalidsequence\")"
      ],
      "execution_count": null,
      "outputs": [
        {
          "output_type": "execute_result",
          "data": {
            "text/plain": [
              "False"
            ]
          },
          "metadata": {
            "tags": []
          },
          "execution_count": 5
        }
      ]
    },
    {
      "cell_type": "markdown",
      "metadata": {
        "id": "K1Pe2oYWOv3C"
      },
      "source": [
        "**Methods for Nussinov Implementation**"
      ]
    },
    {
      "cell_type": "code",
      "metadata": {
        "id": "kL0a7VVfcc_q"
      },
      "source": [
        "def get_base_pairing_score(v_i, v_j):\n",
        "  \"\"\"Returns 1 if input nucleotides form a chemical bond.\"\"\"\n",
        "  pairs = [('A','U'), ('U', 'A'), ('G', 'C'), ('C', 'G')]\n",
        "  if (v_i, v_j) in pairs:\n",
        "      return 1\n",
        "  return 0"
      ],
      "execution_count": null,
      "outputs": []
    },
    {
      "cell_type": "code",
      "metadata": {
        "id": "efCP70lFV4t1"
      },
      "source": [
        "def fill_dp_table(rna_strand, hairpin_loop_min):\n",
        "  \"\"\"\n",
        "  Fills out DP table that corresponds to optimal scoring of input sequence.\n",
        "\n",
        "  Parameters\n",
        "  ----------\n",
        "  rna_strand : list of n chararacters\n",
        "      valid all caps sequence of nucleotides\n",
        "  hairpin_loop_min : int\n",
        "      minimum length of hairpin loops\n",
        "\n",
        "  Returns\n",
        "  -------\n",
        "  dp_table : 2-D list\n",
        "      n x n table containing Nussinov scores between indices\n",
        "  max_score: int\n",
        "      maximum amount of valid pairings possible in secondary structure\n",
        "\n",
        "  \"\"\"\n",
        "  n = len(rna_strand)\n",
        "  \n",
        "  dp = [[0 for _ in range(n)] for _ in range(n)] # initialize nxn table with zeroes\n",
        "\n",
        "  # iterate through table diagonally\n",
        "  for x in range(1, n):\n",
        "    for i in range(0, n - x):\n",
        "      if i == 0:\n",
        "        j = x \n",
        "      else:\n",
        "        j += 1\n",
        "      # if distance between i and j is enough, check 4 possible cases and choose maximum\n",
        "      if (j - i > hairpin_loop_min): # we want hairpin loops with this length or more\n",
        "        i_j_paired = dp[i + 1][j - 1] + get_base_pairing_score(rna_strand[i], rna_strand[j])\n",
        "        i_unpaired = dp[i + 1][j]\n",
        "        j_unpaired = dp[i][j -1]\n",
        "        bifurcation = max([dp[i][k] + dp[k + 1][j] for k in range (i, j)])\n",
        "\n",
        "        dp[i][j] = max(i_j_paired, i_unpaired, j_unpaired, bifurcation)\n",
        "\n",
        "  return dp, dp[0][n - 1]   # (0, n - 1) contains overall max score"
      ],
      "execution_count": null,
      "outputs": []
    },
    {
      "cell_type": "code",
      "metadata": {
        "id": "YzN_lYw0k4xA"
      },
      "source": [
        "def traceback(rna_strand, dp_table):\n",
        "  \"\"\"\n",
        "  Backtraces input DP table to generate a list of RNA secondary structure index pairings.\n",
        "\n",
        "  Parameters\n",
        "  ----------\n",
        "  dp_table : 2-D list\n",
        "      n x n table containing Nussinov scores between indices\n",
        "\n",
        "  Returns\n",
        "  -------\n",
        "  paired_indices: list of integer tuples\n",
        "      set of indices in the original RNA strand \n",
        "      that are paired together in optimal secondary structure\n",
        "\n",
        "  \"\"\"\n",
        "  n = len(dp_table)\n",
        "  paired_indices = [] # list containing which indices i, j in rna_strand are paired\n",
        "  stack = []\n",
        "  stack.append((0, n - 1))  # (0, n - 1) instead of (1, n) to stay within index bounds\n",
        "  while (len(stack) > 0):\n",
        "    pair = stack.pop()\n",
        "    i = pair[0]\n",
        "    j = pair[1]\n",
        "\n",
        "    if (i >= j):\n",
        "      continue\n",
        "    elif (dp_table[i + 1][j] == dp_table[i][j]): # i is unpaired\n",
        "      stack.append((i + 1, j))\n",
        "    elif (dp_table[i][j - 1] == dp_table[i][j]): # j is unpaired\n",
        "      stack.append((i, j - 1))\n",
        "    elif (dp_table[i + 1][j - 1] + 1 == dp_table[i][j] and get_base_pairing_score(rna_strand[i], rna_strand[j]) == 1): # we have a pairing\n",
        "      paired_indices.append((i, j))  # add to paired indices list\n",
        "      stack.append((i + 1, j - 1))\n",
        "    else:\n",
        "      for k in range(i + 1, j): # last element is j - 1\n",
        "        if (dp_table[i][k] + dp_table[k + 1][j] == dp_table[i][j]): # bifurcation\n",
        "          stack.append((k + 1, j))\n",
        "          stack.append((i, k))\n",
        "          break\n",
        "  return paired_indices"
      ],
      "execution_count": null,
      "outputs": []
    },
    {
      "cell_type": "code",
      "metadata": {
        "id": "TV4tnixYNtus"
      },
      "source": [
        "def nussinov(rna_strand, loop_parameter):\n",
        "  \"\"\"\n",
        "  Executes Nussinov Algorithm to predict optimal secondary structure of input RNA strand.\n",
        "\n",
        "  Parameters\n",
        "  ----------\n",
        "  rna_strand : str\n",
        "      1-D RNA structure\n",
        "  loop_parameter : int\n",
        "      minimum length of hairpin loops, zero by default\n",
        "\n",
        "  Returns\n",
        "  -------\n",
        "  dp_table : 2-D list\n",
        "      n x n table containing Nussinov scores between indices\n",
        "  max_score: int\n",
        "      maximum amount of valid pairings possible in secondary structure\n",
        "  pairings: list of integer tuples\n",
        "      set of indices in the original RNA strand \n",
        "      that are paired together in optimal secondary structure\n",
        "  dash_structure: str\n",
        "      represendation of RNA 2-D structure\n",
        "\n",
        "  \"\"\"\n",
        "  rna_strand = validate_sequence(rna_strand)\n",
        "  dp_table, max_score = fill_dp_table(rna_strand, loop_parameter)\n",
        "  pairings = traceback(rna_strand, dp_table)\n",
        "  dash_structure = format_pairings(rna_strand, pairings)\n",
        "  return dp_table, max_score, pairings, dash_structure"
      ],
      "execution_count": null,
      "outputs": []
    },
    {
      "cell_type": "markdown",
      "metadata": {
        "id": "tsh4rmIKPN6Y"
      },
      "source": [
        "**Methods for Postprocessing**"
      ]
    },
    {
      "cell_type": "code",
      "metadata": {
        "id": "42SKnGawBKG5"
      },
      "source": [
        "from tabulate import tabulate\n",
        "pdtabulate=lambda df:tabulate(df,headers='keys',tablefmt='psql')\n",
        "\n",
        "def print_nussinov_output_nicely(rna_strand, loop_parameter, dp_table, max_score, dash_output):\n",
        "  sys.stdout.write(\"INPUT RNA STRAND: \" + rna_strand + \"\\n\")\n",
        "  sys.stdout.write(\"MINIMUM LOOP LENGTH: \" + str(loop_parameter) + \"\\n\")\n",
        "  sys.stdout.write(\"OPTIMAL SECONDARY STRUCTURE: \" + dash_output + \"\\n\")\n",
        "  sys.stdout.write(\"MAXIMAL NUMBER OF NUCLEOTIDE PAIRINGS: \" + str(max_score) + \"\\n\")\n",
        "  sys.stdout.write(\"DP TABLE: \" + \"\\n\\n\")\n",
        "  df = pd.DataFrame.from_records(dp_table)\n",
        "  print(pdtabulate(df))\n"
      ],
      "execution_count": null,
      "outputs": []
    },
    {
      "cell_type": "code",
      "metadata": {
        "id": "E_f7Uj-8ACMt"
      },
      "source": [
        "def format_pairings(rna_strand, paired_indices_list):\n",
        "  \"\"\"Generates a represendation of RNA 2-D structure given optimal base pairings.\"\"\"\n",
        "  formatted = ['-' for i in range(len(rna_strand))] # initialize everything with dashes\n",
        "  for pair in paired_indices_list:\n",
        "    formatted[pair[0]] = \"(\"\n",
        "    formatted[pair[1]] = \")\"\n",
        "  return \" \".join(formatted)"
      ],
      "execution_count": null,
      "outputs": []
    },
    {
      "cell_type": "markdown",
      "metadata": {
        "id": "M2pjnZ_ZO01I"
      },
      "source": [
        "**Methods for Testing**"
      ]
    },
    {
      "cell_type": "code",
      "metadata": {
        "id": "5WmfU5f4RjKp"
      },
      "source": [
        "def check_valid_pairings(input_rna, secondary_str_pairings):\n",
        "  \"\"\"Given a predicted 2D structure, check that A only bonds w/ U and C only bonds w/ G\"\"\"\n",
        "  for pair in secondary_str_pairings:\n",
        "    base_1 = input_rna[pair[0]]\n",
        "    base_2 = input_rna[pair[1]]\n",
        "    if get_base_pairing_score(base_1, base_2) != 1:\n",
        "      print(base_1, base_2)\n",
        "      return False\n",
        "  return True"
      ],
      "execution_count": null,
      "outputs": []
    },
    {
      "cell_type": "code",
      "metadata": {
        "colab": {
          "base_uri": "https://localhost:8080/"
        },
        "id": "6XPuHJierT9j",
        "outputId": "5e3cf7b9-f8d5-4917-acc5-a88713baa75e"
      },
      "source": [
        "check_valid_pairings(\"CC\", [(0, 1)])"
      ],
      "execution_count": null,
      "outputs": [
        {
          "output_type": "stream",
          "text": [
            "C C\n"
          ],
          "name": "stdout"
        },
        {
          "output_type": "execute_result",
          "data": {
            "text/plain": [
              "False"
            ]
          },
          "metadata": {
            "tags": []
          },
          "execution_count": 18
        }
      ]
    },
    {
      "cell_type": "code",
      "metadata": {
        "colab": {
          "base_uri": "https://localhost:8080/"
        },
        "id": "950UzAWAreay",
        "outputId": "3cd69a77-3795-46b1-9b16-983c1d35758b"
      },
      "source": [
        "check_valid_pairings(\"AU\", [(0, 1)])"
      ],
      "execution_count": null,
      "outputs": [
        {
          "output_type": "execute_result",
          "data": {
            "text/plain": [
              "True"
            ]
          },
          "metadata": {
            "tags": []
          },
          "execution_count": 19
        }
      ]
    },
    {
      "cell_type": "code",
      "metadata": {
        "id": "JhGdeOvIY7vn"
      },
      "source": [
        "def check_pseudoknots(secondary_str):\n",
        "  \"\"\" \n",
        "  Checks whether a set of pairings in RNA secondary structure contains pseudoknots.\n",
        "  Returns False if no pseudoknots, True otherwise\n",
        "  \"\"\"\n",
        "  # pairwise iteration through list of pairings\n",
        "  pairwise_groupings = list(zip(secondary_str, secondary_str[1:] + secondary_str[:1])) \n",
        "  for two_pairs in pairwise_groupings:\n",
        "    i = two_pairs[0][0]\n",
        "    j = two_pairs[0][1]\n",
        "    i_prime = two_pairs[1][0]\n",
        "    j_prime = two_pairs[1][1]\n",
        "\n",
        "    # pseudoknot detected\n",
        "    if (i < i_prime < j < j_prime) or (i_prime < i < j_prime < j):\n",
        "      return True\n",
        "\n",
        "  return False"
      ],
      "execution_count": null,
      "outputs": []
    },
    {
      "cell_type": "code",
      "metadata": {
        "colab": {
          "base_uri": "https://localhost:8080/"
        },
        "id": "_ks2PzX7r5Qo",
        "outputId": "30e01079-a8a2-4b1a-cb28-7c8daff6964f"
      },
      "source": [
        "check_pseudoknots([(1, 4), (2, 3)]) # (()) (nested)"
      ],
      "execution_count": null,
      "outputs": [
        {
          "output_type": "execute_result",
          "data": {
            "text/plain": [
              "False"
            ]
          },
          "metadata": {
            "tags": []
          },
          "execution_count": 23
        }
      ]
    },
    {
      "cell_type": "code",
      "metadata": {
        "colab": {
          "base_uri": "https://localhost:8080/"
        },
        "id": "_YndIaApsFtS",
        "outputId": "b99eaad2-e704-4215-d100-02fbeeabbd2a"
      },
      "source": [
        "check_pseudoknots([(1, 5), (3, 9)]) #(-(-)---)"
      ],
      "execution_count": null,
      "outputs": [
        {
          "output_type": "execute_result",
          "data": {
            "text/plain": [
              "True"
            ]
          },
          "metadata": {
            "tags": []
          },
          "execution_count": 26
        }
      ]
    },
    {
      "cell_type": "code",
      "metadata": {
        "id": "g4xctjoX9UXM"
      },
      "source": [
        "def compute_min_loop_dist(secondary_structure):\n",
        "  \"\"\"Return minimum distance between base pairs given dashed secondary structure\"\"\"\n",
        "  no_spaces = secondary_structure.replace(\" \", \"\")\n",
        "  n = len(no_spaces)\n",
        "  min_dist = n + 1 # upper bound on min distance\n",
        "\n",
        "  base_1 = no_spaces.find('(')\n",
        "\n",
        "  for i in range(base_1, n):\n",
        "    if no_spaces[i] == '(':\n",
        "      base_1 = i\n",
        "    elif no_spaces[i] == ')' and (i - base_1 < min_dist):\n",
        "      min_dist = i - base_1 - 1       \n",
        "  return min_dist \n",
        "\n"
      ],
      "execution_count": null,
      "outputs": []
    },
    {
      "cell_type": "code",
      "metadata": {
        "colab": {
          "base_uri": "https://localhost:8080/"
        },
        "id": "GDOla3xKsjbj",
        "outputId": "95ab1d46-2c0d-4081-926f-297b47405604"
      },
      "source": [
        "compute_min_loop_dist(\"(((((((--(---)))))))))\")"
      ],
      "execution_count": null,
      "outputs": [
        {
          "output_type": "execute_result",
          "data": {
            "text/plain": [
              "3"
            ]
          },
          "metadata": {
            "tags": []
          },
          "execution_count": 30
        }
      ]
    },
    {
      "cell_type": "code",
      "metadata": {
        "id": "QNvtmyySI95o"
      },
      "source": [
        "def compare_single_sample(input_strand, expected_dot_dash):\n",
        "  \"\"\"\n",
        "  Compare secondary structure and score generated by our implementation \n",
        "  with a benchmark for a single input strand.\n",
        "  \"\"\"\n",
        "  dp, m_score, pairs, predicted_structure = nussinov(input_strand, 4)\n",
        "  reference_score = get_reference_score(expected_dot_dash)\n",
        "  check_for_knots = check_pseudoknots(pairs)\n",
        "  our_min_loop_dist = compute_min_loop_dist(predicted_structure)\n",
        "  paper_min_loop_dist = compute_min_loop_dist(expected_dot_dash)\n",
        "  sys.stdout.write(\"INPUT RNA STRAND: \" + input_strand + \"\\n\")\n",
        "  sys.stdout.write(\"EXPECTED 2D STRUCTURE: \" + \" \".join(expected_dot_dash) + \"\\n\")\n",
        "  sys.stdout.write(\"OUR PREDICTED 2ND STR: \" + predicted_structure + \"\\n\")\n",
        "  sys.stdout.write(\"NUMBER OF PAIRINGS IN BENCHMARK DATASET: \" + str(reference_score) + \"\\n\")\n",
        "  sys.stdout.write(\"NUMBER OF PAIRINGS PREDICTED IN OUR IMPLEMENTATION: \" + str(m_score) + \"\\n\")\n",
        "  sys.stdout.write(\"MIN LOOP DISTANCE IN BENCHMARK DATASET: \" + str(paper_min_loop_dist) + \"\\n\")\n",
        "  sys.stdout.write(\"MIN LOOP DISTANCE IN OUR IMPLEMENTATION: \" + str(our_min_loop_dist) + \"\\n\")\n",
        "  sys.stdout.write(\"PAIRINGS VALID: \" + str(check_valid_pairings(input_strand, pairs)) + \"\\n\")\n",
        "  sys.stdout.write(\"PSEUDOKNOTS PRESENT: \" + str(check_for_knots) + \"\\n\\n\")\n"
      ],
      "execution_count": null,
      "outputs": []
    },
    {
      "cell_type": "code",
      "metadata": {
        "id": "5FbLK4J5UNUU"
      },
      "source": [
        "def get_reference_score(s):\n",
        "    \"\"\"Return number of pairings given secondary structure\"\"\"\n",
        "    counter = 0\n",
        "    s = [c for c in s]\n",
        "    for c in s:\n",
        "        if c == '(': # each open parenthesis corresponds to a pairing\n",
        "            counter += 1\n",
        "          \n",
        "    return counter"
      ],
      "execution_count": null,
      "outputs": []
    },
    {
      "cell_type": "markdown",
      "metadata": {
        "id": "R_8Fn_jPPhtl"
      },
      "source": [
        "**Results of Our Implemntation VS Benchmark Data Outputs**"
      ]
    },
    {
      "cell_type": "code",
      "metadata": {
        "colab": {
          "base_uri": "https://localhost:8080/"
        },
        "id": "n6E23anupGqi",
        "outputId": "e0a41aea-148b-4bf1-c731-b2fcdfdf01a1"
      },
      "source": [
        "input = 'GUUUCCAUCCCCGUGAGGGGAAUAAGUGUUUUGAA'\n",
        "# input = 'AUCAUAACCGUUCAGGUAACCGCUGCAUCGCAUGCGAUGU'\n",
        "loop_len = 4\n",
        "dp, ms, pairs, final = nussinov(input, loop_len)\n",
        "print_nussinov_output_nicely(input, loop_len, dp, ms, final)\n",
        "print(check_valid_pairings(input, pairs))\n"
      ],
      "execution_count": null,
      "outputs": [
        {
          "output_type": "stream",
          "text": [
            "INPUT RNA STRAND: GUUUCCAUCCCCGUGAGGGGAAUAAGUGUUUUGAA\n",
            "MINIMUM LOOP LENGTH: 4\n",
            "OPTIMAL SECONDARY STRUCTURE: - - ( ( - ( - ( ( ( ( ( - - - - ) ) ) ) ) ( - ( ( - - - - ) ) ) ) ) )\n",
            "MAXIMAL NUMBER OF NUCLEOTIDE PAIRINGS: 11\n",
            "DP TABLE: \n",
            "\n",
            "+----+-----+-----+-----+-----+-----+-----+-----+-----+-----+-----+------+------+------+------+------+------+------+------+------+------+------+------+------+------+------+------+------+------+------+------+------+------+------+------+------+\n",
            "|    |   0 |   1 |   2 |   3 |   4 |   5 |   6 |   7 |   8 |   9 |   10 |   11 |   12 |   13 |   14 |   15 |   16 |   17 |   18 |   19 |   20 |   21 |   22 |   23 |   24 |   25 |   26 |   27 |   28 |   29 |   30 |   31 |   32 |   33 |   34 |\n",
            "|----+-----+-----+-----+-----+-----+-----+-----+-----+-----+-----+------+------+------+------+------+------+------+------+------+------+------+------+------+------+------+------+------+------+------+------+------+------+------+------+------|\n",
            "|  0 |   0 |   0 |   0 |   0 |   0 |   1 |   1 |   1 |   2 |   2 |    2 |    2 |    2 |    2 |    3 |    3 |    3 |    4 |    5 |    5 |    6 |    6 |    7 |    7 |    8 |    8 |    8 |    8 |    8 |    8 |    9 |    9 |    9 |   10 |   11 |\n",
            "|  1 |   0 |   0 |   0 |   0 |   0 |   0 |   1 |   1 |   1 |   1 |    1 |    1 |    1 |    1 |    2 |    3 |    3 |    4 |    4 |    5 |    6 |    6 |    6 |    7 |    8 |    8 |    8 |    8 |    8 |    8 |    8 |    9 |    9 |   10 |   11 |\n",
            "|  2 |   0 |   0 |   0 |   0 |   0 |   0 |   0 |   0 |   0 |   0 |    0 |    0 |    1 |    1 |    2 |    3 |    3 |    4 |    4 |    4 |    5 |    6 |    6 |    7 |    8 |    8 |    8 |    8 |    8 |    8 |    8 |    8 |    9 |   10 |   11 |\n",
            "|  3 |   0 |   0 |   0 |   0 |   0 |   0 |   0 |   0 |   0 |   0 |    0 |    0 |    1 |    1 |    2 |    3 |    3 |    4 |    4 |    4 |    5 |    6 |    6 |    7 |    7 |    7 |    7 |    8 |    8 |    8 |    8 |    8 |    9 |   10 |   10 |\n",
            "|  4 |   0 |   0 |   0 |   0 |   0 |   0 |   0 |   0 |   0 |   0 |    0 |    0 |    1 |    1 |    2 |    2 |    3 |    4 |    4 |    4 |    5 |    5 |    6 |    6 |    6 |    7 |    7 |    8 |    8 |    8 |    8 |    8 |    9 |    9 |    9 |\n",
            "|  5 |   0 |   0 |   0 |   0 |   0 |   0 |   0 |   0 |   0 |   0 |    0 |    0 |    1 |    1 |    2 |    2 |    3 |    3 |    3 |    4 |    5 |    5 |    6 |    6 |    6 |    7 |    7 |    7 |    7 |    7 |    8 |    8 |    9 |    9 |    9 |\n",
            "|  6 |   0 |   0 |   0 |   0 |   0 |   0 |   0 |   0 |   0 |   0 |    0 |    0 |    0 |    1 |    1 |    2 |    2 |    2 |    3 |    4 |    5 |    5 |    6 |    6 |    6 |    6 |    6 |    6 |    7 |    7 |    8 |    8 |    8 |    8 |    8 |\n",
            "|  7 |   0 |   0 |   0 |   0 |   0 |   0 |   0 |   0 |   0 |   0 |    0 |    0 |    0 |    0 |    1 |    2 |    2 |    2 |    3 |    4 |    5 |    5 |    5 |    5 |    5 |    5 |    6 |    6 |    6 |    7 |    7 |    8 |    8 |    8 |    8 |\n",
            "|  8 |   0 |   0 |   0 |   0 |   0 |   0 |   0 |   0 |   0 |   0 |    0 |    0 |    0 |    0 |    1 |    1 |    2 |    2 |    3 |    4 |    4 |    4 |    4 |    4 |    4 |    4 |    5 |    5 |    6 |    6 |    7 |    7 |    7 |    7 |    7 |\n",
            "|  9 |   0 |   0 |   0 |   0 |   0 |   0 |   0 |   0 |   0 |   0 |    0 |    0 |    0 |    0 |    1 |    1 |    1 |    2 |    3 |    3 |    3 |    3 |    3 |    3 |    3 |    3 |    4 |    4 |    5 |    5 |    6 |    6 |    6 |    6 |    6 |\n",
            "| 10 |   0 |   0 |   0 |   0 |   0 |   0 |   0 |   0 |   0 |   0 |    0 |    0 |    0 |    0 |    0 |    0 |    1 |    2 |    2 |    2 |    2 |    2 |    2 |    2 |    2 |    3 |    3 |    4 |    4 |    4 |    5 |    5 |    5 |    5 |    5 |\n",
            "| 11 |   0 |   0 |   0 |   0 |   0 |   0 |   0 |   0 |   0 |   0 |    0 |    0 |    0 |    0 |    0 |    0 |    1 |    1 |    1 |    1 |    1 |    1 |    1 |    2 |    2 |    3 |    3 |    3 |    3 |    3 |    4 |    4 |    5 |    5 |    5 |\n",
            "| 12 |   0 |   0 |   0 |   0 |   0 |   0 |   0 |   0 |   0 |   0 |    0 |    0 |    0 |    0 |    0 |    0 |    0 |    0 |    0 |    0 |    1 |    1 |    1 |    2 |    2 |    2 |    2 |    2 |    2 |    3 |    3 |    4 |    4 |    5 |    5 |\n",
            "| 13 |   0 |   0 |   0 |   0 |   0 |   0 |   0 |   0 |   0 |   0 |    0 |    0 |    0 |    0 |    0 |    0 |    0 |    0 |    0 |    0 |    1 |    1 |    1 |    2 |    2 |    2 |    2 |    2 |    2 |    3 |    3 |    4 |    4 |    5 |    5 |\n",
            "| 14 |   0 |   0 |   0 |   0 |   0 |   0 |   0 |   0 |   0 |   0 |    0 |    0 |    0 |    0 |    0 |    0 |    0 |    0 |    0 |    0 |    0 |    0 |    1 |    1 |    1 |    1 |    1 |    1 |    2 |    3 |    3 |    4 |    4 |    4 |    4 |\n",
            "| 15 |   0 |   0 |   0 |   0 |   0 |   0 |   0 |   0 |   0 |   0 |    0 |    0 |    0 |    0 |    0 |    0 |    0 |    0 |    0 |    0 |    0 |    0 |    1 |    1 |    1 |    1 |    1 |    1 |    2 |    3 |    3 |    4 |    4 |    4 |    4 |\n",
            "| 16 |   0 |   0 |   0 |   0 |   0 |   0 |   0 |   0 |   0 |   0 |    0 |    0 |    0 |    0 |    0 |    0 |    0 |    0 |    0 |    0 |    0 |    0 |    0 |    0 |    0 |    0 |    1 |    1 |    2 |    2 |    3 |    3 |    3 |    3 |    3 |\n",
            "| 17 |   0 |   0 |   0 |   0 |   0 |   0 |   0 |   0 |   0 |   0 |    0 |    0 |    0 |    0 |    0 |    0 |    0 |    0 |    0 |    0 |    0 |    0 |    0 |    0 |    0 |    0 |    1 |    1 |    2 |    2 |    3 |    3 |    3 |    3 |    3 |\n",
            "| 18 |   0 |   0 |   0 |   0 |   0 |   0 |   0 |   0 |   0 |   0 |    0 |    0 |    0 |    0 |    0 |    0 |    0 |    0 |    0 |    0 |    0 |    0 |    0 |    0 |    0 |    0 |    1 |    1 |    2 |    2 |    3 |    3 |    3 |    3 |    3 |\n",
            "| 19 |   0 |   0 |   0 |   0 |   0 |   0 |   0 |   0 |   0 |   0 |    0 |    0 |    0 |    0 |    0 |    0 |    0 |    0 |    0 |    0 |    0 |    0 |    0 |    0 |    0 |    0 |    1 |    1 |    2 |    2 |    3 |    3 |    3 |    3 |    3 |\n",
            "| 20 |   0 |   0 |   0 |   0 |   0 |   0 |   0 |   0 |   0 |   0 |    0 |    0 |    0 |    0 |    0 |    0 |    0 |    0 |    0 |    0 |    0 |    0 |    0 |    0 |    0 |    0 |    1 |    1 |    2 |    2 |    3 |    3 |    3 |    3 |    3 |\n",
            "| 21 |   0 |   0 |   0 |   0 |   0 |   0 |   0 |   0 |   0 |   0 |    0 |    0 |    0 |    0 |    0 |    0 |    0 |    0 |    0 |    0 |    0 |    0 |    0 |    0 |    0 |    0 |    1 |    1 |    1 |    2 |    2 |    3 |    3 |    3 |    3 |\n",
            "| 22 |   0 |   0 |   0 |   0 |   0 |   0 |   0 |   0 |   0 |   0 |    0 |    0 |    0 |    0 |    0 |    0 |    0 |    0 |    0 |    0 |    0 |    0 |    0 |    0 |    0 |    0 |    0 |    0 |    1 |    1 |    2 |    2 |    2 |    3 |    3 |\n",
            "| 23 |   0 |   0 |   0 |   0 |   0 |   0 |   0 |   0 |   0 |   0 |    0 |    0 |    0 |    0 |    0 |    0 |    0 |    0 |    0 |    0 |    0 |    0 |    0 |    0 |    0 |    0 |    0 |    0 |    1 |    1 |    2 |    2 |    2 |    2 |    2 |\n",
            "| 24 |   0 |   0 |   0 |   0 |   0 |   0 |   0 |   0 |   0 |   0 |    0 |    0 |    0 |    0 |    0 |    0 |    0 |    0 |    0 |    0 |    0 |    0 |    0 |    0 |    0 |    0 |    0 |    0 |    0 |    1 |    1 |    1 |    1 |    1 |    2 |\n",
            "| 25 |   0 |   0 |   0 |   0 |   0 |   0 |   0 |   0 |   0 |   0 |    0 |    0 |    0 |    0 |    0 |    0 |    0 |    0 |    0 |    0 |    0 |    0 |    0 |    0 |    0 |    0 |    0 |    0 |    0 |    0 |    0 |    0 |    0 |    1 |    2 |\n",
            "| 26 |   0 |   0 |   0 |   0 |   0 |   0 |   0 |   0 |   0 |   0 |    0 |    0 |    0 |    0 |    0 |    0 |    0 |    0 |    0 |    0 |    0 |    0 |    0 |    0 |    0 |    0 |    0 |    0 |    0 |    0 |    0 |    0 |    0 |    1 |    2 |\n",
            "| 27 |   0 |   0 |   0 |   0 |   0 |   0 |   0 |   0 |   0 |   0 |    0 |    0 |    0 |    0 |    0 |    0 |    0 |    0 |    0 |    0 |    0 |    0 |    0 |    0 |    0 |    0 |    0 |    0 |    0 |    0 |    0 |    0 |    0 |    1 |    1 |\n",
            "| 28 |   0 |   0 |   0 |   0 |   0 |   0 |   0 |   0 |   0 |   0 |    0 |    0 |    0 |    0 |    0 |    0 |    0 |    0 |    0 |    0 |    0 |    0 |    0 |    0 |    0 |    0 |    0 |    0 |    0 |    0 |    0 |    0 |    0 |    1 |    1 |\n",
            "| 29 |   0 |   0 |   0 |   0 |   0 |   0 |   0 |   0 |   0 |   0 |    0 |    0 |    0 |    0 |    0 |    0 |    0 |    0 |    0 |    0 |    0 |    0 |    0 |    0 |    0 |    0 |    0 |    0 |    0 |    0 |    0 |    0 |    0 |    0 |    1 |\n",
            "| 30 |   0 |   0 |   0 |   0 |   0 |   0 |   0 |   0 |   0 |   0 |    0 |    0 |    0 |    0 |    0 |    0 |    0 |    0 |    0 |    0 |    0 |    0 |    0 |    0 |    0 |    0 |    0 |    0 |    0 |    0 |    0 |    0 |    0 |    0 |    0 |\n",
            "| 31 |   0 |   0 |   0 |   0 |   0 |   0 |   0 |   0 |   0 |   0 |    0 |    0 |    0 |    0 |    0 |    0 |    0 |    0 |    0 |    0 |    0 |    0 |    0 |    0 |    0 |    0 |    0 |    0 |    0 |    0 |    0 |    0 |    0 |    0 |    0 |\n",
            "| 32 |   0 |   0 |   0 |   0 |   0 |   0 |   0 |   0 |   0 |   0 |    0 |    0 |    0 |    0 |    0 |    0 |    0 |    0 |    0 |    0 |    0 |    0 |    0 |    0 |    0 |    0 |    0 |    0 |    0 |    0 |    0 |    0 |    0 |    0 |    0 |\n",
            "| 33 |   0 |   0 |   0 |   0 |   0 |   0 |   0 |   0 |   0 |   0 |    0 |    0 |    0 |    0 |    0 |    0 |    0 |    0 |    0 |    0 |    0 |    0 |    0 |    0 |    0 |    0 |    0 |    0 |    0 |    0 |    0 |    0 |    0 |    0 |    0 |\n",
            "| 34 |   0 |   0 |   0 |   0 |   0 |   0 |   0 |   0 |   0 |   0 |    0 |    0 |    0 |    0 |    0 |    0 |    0 |    0 |    0 |    0 |    0 |    0 |    0 |    0 |    0 |    0 |    0 |    0 |    0 |    0 |    0 |    0 |    0 |    0 |    0 |\n",
            "+----+-----+-----+-----+-----+-----+-----+-----+-----+-----+-----+------+------+------+------+------+------+------+------+------+------+------+------+------+------+------+------+------+------+------+------+------+------+------+------+------+\n",
            "True\n"
          ],
          "name": "stdout"
        }
      ]
    },
    {
      "cell_type": "code",
      "metadata": {
        "colab": {
          "base_uri": "https://localhost:8080/"
        },
        "id": "zPM6krVLSGuX",
        "outputId": "7756483f-5c19-449d-b95b-4c38b814d024"
      },
      "source": [
        "benchmark_data = \"/content/S-Full-Train.txt\"\n",
        "test_file = open(benchmark_data, \"r\")\n",
        "file_as_list = test_file.readlines()\n",
        "n_samples = 30\n",
        "for i in range(0, 5*n_samples, 5): # iterate through n test samples\n",
        "  original_strand = file_as_list[i + 1].strip()\n",
        "  original_strand = original_strand.upper()\n",
        "  paper_secondary_structure = file_as_list[i + 2].strip() # given to us from the paper\n",
        "  dp, m_score, pairs, predicted_structure = nussinov(original_strand, 5)\n",
        "  reference_score = get_reference_score(paper_secondary_structure)\n",
        "  check_for_knots = check_pseudoknots(pairs)\n",
        "  our_min_loop_dist = compute_min_loop_dist(predicted_structure)\n",
        "  paper_min_loop_dist = compute_min_loop_dist(paper_secondary_structure)\n",
        "\n",
        "  sys.stdout.write(\"INPUT RNA STRAND: \" + original_strand + \"\\n\")\n",
        "  sys.stdout.write(\"NUMBER OF PAIRINGS IN BENCHMARK DATASET: \" + str(reference_score) + \"\\n\")\n",
        "  sys.stdout.write(\"NUMBER OF PAIRINGS PREDICTED IN OUR IMPLEMENTATION: \" + str(m_score) + \"\\n\")\n",
        "  sys.stdout.write(\"MIN LOOP DISTANCE IN BENCHMARK DATASET: \" + str(paper_min_loop_dist) + \"\\n\")\n",
        "  sys.stdout.write(\"MIN LOOP DISTANCE IN OUR IMPLEMENTATION: \" + str(our_min_loop_dist) + \"\\n\")\n",
        "  sys.stdout.write(\"PAIRINGS VALID: \" + str(check_valid_pairings(original_strand, pairs)) + \"\\n\")\n",
        "  sys.stdout.write(\"PSEUDOKNOTS PRESENT: \" + str(check_for_knots) + \"\\n\\n\")\n"
      ],
      "execution_count": null,
      "outputs": [
        {
          "output_type": "stream",
          "text": [
            "INPUT RNA STRAND: GAGGAAAGUCCCGCCUCCUGGCCUAAAGGAGUCUCUAUAGAGACAAGGGCAACACCCUUGGCAACUAUACAGAAACAAGUACCUUGAAAGCUACAUGUGAAAAUGAUUGUGCCCCUUCCUCUGGUAACGGAGGAAGAAACAUGAGAGUAGCUUUCAAGGAUGAAAAGAUAGACCUCCUAGGAGCAAGUAGAGGGAAAGAUGAGACUAGGCCCGAUUUCCCUCUAGGACGCAUAGCCAAAUCCCCCAACCAUUACAAAAGCGGGCUUA\n",
            "NUMBER OF PAIRINGS IN BENCHMARK DATASET: 65\n",
            "NUMBER OF PAIRINGS PREDICTED IN OUR IMPLEMENTATION: 90\n",
            "MIN LOOP DISTANCE IN BENCHMARK DATASET: 4\n",
            "MIN LOOP DISTANCE IN OUR IMPLEMENTATION: 5\n",
            "PAIRINGS VALID: True\n",
            "PSEUDOKNOTS PRESENT: False\n",
            "\n",
            "INPUT RNA STRAND: GAGGAAAGUCCGGGCUCCAUAGGGCAGAGUGCCAGGUAACGCCUGGGAGGCGUGAGCCUACGGAAAGUGCCACAGAAAACAACCGCCUAAGUGCGCAAGCGCCGGUAAGGGUGAAAAGGUGCGGUAAGAGCGCACCGCACGGCUGGCAACAGUCCGUGGCUAGGUAAACCCCACUCGGAGCAAGACCAAAUAGGGAUCCGUUGGCGUGGCCCGCGCUGGAUCCGGGUAGGUUGCUAGAGGCGGCCAGCGAUGGUCGUCGUAGAGGAAUGACUGUCCUCGACAGAACCCGGCUUA\n",
            "NUMBER OF PAIRINGS IN BENCHMARK DATASET: 81\n",
            "NUMBER OF PAIRINGS PREDICTED IN OUR IMPLEMENTATION: 97\n",
            "MIN LOOP DISTANCE IN BENCHMARK DATASET: 5\n",
            "MIN LOOP DISTANCE IN OUR IMPLEMENTATION: 5\n",
            "PAIRINGS VALID: True\n",
            "PSEUDOKNOTS PRESENT: False\n",
            "\n",
            "INPUT RNA STRAND: CACAGAGCACGGUGGUGGCCAACAGCCACCCACGGCGACGUGCGGGACAGUGCCACAGAGAACAGACCGCCAGCGGCCCCGCGGCCUUCGGGCCACGGGGUGCGGGCAAGGGUGAAACGGUGAGGUAAGAGCUCACCAGCGACGUCGGCGACGGCGUCGGCUCGGUAAACCCCACCGGGAGCAAGACCAAGAGGGCGCUCCGGCGCCUGCGCUGACGGGCUGCUCGUCCGACGUCAGCGGGUAGGUCGCUCGAGGCACGCAGCAAUGCGUGACCCAGAUGGAUGGUCGCCCCCCAGCCCUCGGGCCGGGG\n",
            "NUMBER OF PAIRINGS IN BENCHMARK DATASET: 90\n",
            "NUMBER OF PAIRINGS PREDICTED IN OUR IMPLEMENTATION: 107\n",
            "MIN LOOP DISTANCE IN BENCHMARK DATASET: 5\n",
            "MIN LOOP DISTANCE IN OUR IMPLEMENTATION: 5\n",
            "PAIRINGS VALID: True\n",
            "PSEUDOKNOTS PRESENT: False\n",
            "\n",
            "INPUT RNA STRAND: AAAGCAGGCCAGGCAACCGCUGCCUGCACCGCAAGGUGCAGGGGGAGGAAAGUCCGGACUCCACAGGGCAGGGUGUUGGCUAACAGCCAUCCACGGCAACGUGCGGAAUAGGGCCACAGAGACGAGUCUUGCCGCCGGGUUCGCCCGGCGGGAAGGGUGAAACGCGGUAACCUCCACCUGGAGCAAUCCCAAAUAGGCAGGCGAUGAAGCGGCCCGCUGAGUCUGCGGGUAGGGAGCUGGAGCCGGCUGGUAACAGCCGGCCUAGAGGAAUGGUUGUCACGCACCGUUUGCCGCAAGGCGGGCGGGGCGCACAGAAUCCGGCUUAUCGGCCUGCUUUGCUU\n",
            "NUMBER OF PAIRINGS IN BENCHMARK DATASET: 99\n",
            "NUMBER OF PAIRINGS PREDICTED IN OUR IMPLEMENTATION: 118\n",
            "MIN LOOP DISTANCE IN BENCHMARK DATASET: 4\n",
            "MIN LOOP DISTANCE IN OUR IMPLEMENTATION: 5\n",
            "PAIRINGS VALID: True\n",
            "PSEUDOKNOTS PRESENT: False\n",
            "\n",
            "INPUT RNA STRAND: CACAGAGCAACGGUGGUGGCUAACGGCCACCCACGGCGACGUGCGGGACAGUGCCACAGAAAUCAGACCGCCAGCGGCCGCCGCUCCUCGGAGCAGCGGUGCGGGUAAGGGUGAAACGGUGAGGUAAGAGCUCACCAGCGCUCCGGGUGACCGGGGCGGCUAGGUAAACCCCACCGGGAGCAAGACCAAGAGAGUCGCGUGGCGCUUCGGCGGUGCACGGCUUGCGCUGACGGGCUGCUCGUCCGAUGUCAGCGGGUAGGUUGCACGAGGCGUCCAGCAAUGGGCGUCCCAGAUGGAUGGUCGCCCACG\n",
            "NUMBER OF PAIRINGS IN BENCHMARK DATASET: 88\n",
            "NUMBER OF PAIRINGS PREDICTED IN OUR IMPLEMENTATION: 106\n",
            "MIN LOOP DISTANCE IN BENCHMARK DATASET: 5\n",
            "MIN LOOP DISTANCE IN OUR IMPLEMENTATION: 5\n",
            "PAIRINGS VALID: True\n",
            "PSEUDOKNOTS PRESENT: False\n",
            "\n",
            "INPUT RNA STRAND: GGAGUGGGCCAGACGACCGCCGCGGAGCAAUCCGGGGAGGAAAGUCCGGGCUCCACAGGGCAAGGCGCCGGCUAACGGCCGGGAGGCGUGAGCCUACGGAAAGUGCCACAGAAAAUAUACCGCCAAAGCGCGUAAGCGCCGGUAAGGGUGAAAAGGUGCGGUAAGAGCGCACCGCAUUUCCGGCGACGGGAAUGGCAGGGAAAACCCCGCCUGGAGCAAGACCAAAUAGGCGUGCGAUACCGUGGCCCGCGGUGCAUGCGGGUAGGUUGCUGGAGCCUGCGCGUAAGUUCAGGCCUAGAGGAAUGGUCGUCCACGACAGAACCCGGCUUAUCGGCCCACUCCAAUU\n",
            "NUMBER OF PAIRINGS IN BENCHMARK DATASET: 96\n",
            "NUMBER OF PAIRINGS PREDICTED IN OUR IMPLEMENTATION: 118\n",
            "MIN LOOP DISTANCE IN BENCHMARK DATASET: 4\n",
            "MIN LOOP DISTANCE IN OUR IMPLEMENTATION: 6\n",
            "PAIRINGS VALID: True\n",
            "PSEUDOKNOTS PRESENT: False\n",
            "\n",
            "INPUT RNA STRAND: GGAGUGGGCCAGGCGACCGCCGCGGAGCAAUCCGGGGAGGAAAGUCCGGGCUCCAUAGGGCAAGGCGCCGGUUAACGGCCGGGGGGCGUGAGCCUACGGAAAGUGCCACAGAAAAUAUACCGCCAAGCGCGUAAGCGCGGUAAGGGUGAAAAGGUGCGGUAAGAGCGCACCGCAUUUCCGGUAACGGAAAUGGCAGGGAAAACCCCGCCUGGAGCAAGACCAAAUAGGCGUGCGAUACCGUGGCCCGCGGUGCACGCGGGUAGGUUGCUGGAGCCUGUGCGUAAGUGCAGGCCUAGAGGAAUGGUCGUCCACGACAGAACCCGGCUUAUCGGCCCACUCCAAUU\n",
            "NUMBER OF PAIRINGS IN BENCHMARK DATASET: 97\n",
            "NUMBER OF PAIRINGS PREDICTED IN OUR IMPLEMENTATION: 116\n",
            "MIN LOOP DISTANCE IN BENCHMARK DATASET: 4\n",
            "MIN LOOP DISTANCE IN OUR IMPLEMENTATION: 6\n",
            "PAIRINGS VALID: True\n",
            "PSEUDOKNOTS PRESENT: False\n",
            "\n",
            "INPUT RNA STRAND: CGGCGGUGGGCGGCUGACCGAAAGGAGGAAAGUCCCCCCACCCGCUGUGGCGGAAGGCCCCUGAGAAGGGGCGGAGGAGGAACAGAAACGAGACCGGUGCGGGGAAAUGCGAUGAUUCCGCAAGGAUGAGGUCACCCGCUCCGGAUGAAACGGCCUCCUCCCCGCCGGGUGCAACGCGUAAGCGGCUCAGUCUAAUGCCGCCGGAACAGAAGGGGGCUUACUACCGCCA\n",
            "NUMBER OF PAIRINGS IN BENCHMARK DATASET: 58\n",
            "NUMBER OF PAIRINGS PREDICTED IN OUR IMPLEMENTATION: 75\n",
            "MIN LOOP DISTANCE IN BENCHMARK DATASET: 4\n",
            "MIN LOOP DISTANCE IN OUR IMPLEMENTATION: 5\n",
            "PAIRINGS VALID: True\n",
            "PSEUDOKNOTS PRESENT: False\n",
            "\n",
            "INPUT RNA STRAND: GAGGAAAGUCCGGGCUAGCACACACCUUAUGGGUGUGUAGUGUUUGUGCUAAGGGAAAUCAUAACCUUAGGUAUGUUGUAUAAACAUAACGGCAAACUAGUUAUAGCUAAGGUGUUUCACUACGUUAUAACUUAAAUUAAAGUGCCACAGAGACGAAUCUAUUUAGAAAUAAAUAGAGUGAAACGCGGUAAACCCCUCAAGCUAGCAACCCAAAUUAGGUAGGGGCACAUGAUGUGUAGCAAUACAACAUCAUGCAAGAUUUGAAUCUUGAGAUUAAUAGUCACAAAAGAAGAAAUUCUUUACAGAACGCGGCUUA\n",
            "NUMBER OF PAIRINGS IN BENCHMARK DATASET: 80\n",
            "NUMBER OF PAIRINGS PREDICTED IN OUR IMPLEMENTATION: 109\n",
            "MIN LOOP DISTANCE IN BENCHMARK DATASET: 3\n",
            "MIN LOOP DISTANCE IN OUR IMPLEMENTATION: 5\n",
            "PAIRINGS VALID: True\n",
            "PSEUDOKNOTS PRESENT: False\n",
            "\n",
            "INPUT RNA STRAND: GAGGAAAGUCCGGGCUCCAUAGGGCAAAGUGCCAGGUAACGCCUGGGAGGCGUGAGCCUACGGAAAGUGCCACAGAAAAUAACCGCCUAAGCGCUUCGGCGCCGGUAAGGGUGAAAAGGUGCGGUAAGAGCGCACCGCACGGCUGGCAACAGUUCGUGGCUAGGUAAACCCCACUUGGAGCAAGACCAAAUAGGGAUCCAUCGGCGUGGCCCGCGCUGGAUCCGGGUAGGUUGCUAGAGGCGGUCAGCGAUGGCCGUCGUAGAGGAAUGGCUGUCCUCGACAGAACCCGGCUUA\n",
            "NUMBER OF PAIRINGS IN BENCHMARK DATASET: 81\n",
            "NUMBER OF PAIRINGS PREDICTED IN OUR IMPLEMENTATION: 98\n",
            "MIN LOOP DISTANCE IN BENCHMARK DATASET: 5\n",
            "MIN LOOP DISTANCE IN OUR IMPLEMENTATION: 5\n",
            "PAIRINGS VALID: True\n",
            "PSEUDOKNOTS PRESENT: False\n",
            "\n",
            "INPUT RNA STRAND: GCGGGGAAAGGAGGCGAGGCAGUUGCGGCUCAGGCUUCGGUUAUGGGCUGAGGAAAGUCCGGGCUCCCAAAAGACCAGACUUGCUGGGUAACGCCCAGUGCGGGUGACCGUGAGGAGAGUGCCACAGAAACAUACCGCCGAUGGCCUGCUUGCAGGCACAGGUAAGGGUGCAAGGGUGCGGUAAGAGCGCACCAGCAACAUCGAGAGGUGUUGGCUCGGUAAACCCCGGUUGGGAGCAAGGUGGAGGGACAACGGUUGGUCUUUUACCUGUUCCGUUUAUGGACCGCUAGAGGUGGCUAGUAAUAGCCAUCCCAGAGAGAUAACAGCCCUCUGUCUUCGACAGAGAACAGAACCCGGCUUAUGUCCUGCUUUCCCUACUUUAUUU\n",
            "NUMBER OF PAIRINGS IN BENCHMARK DATASET: 108\n",
            "NUMBER OF PAIRINGS PREDICTED IN OUR IMPLEMENTATION: 130\n",
            "MIN LOOP DISTANCE IN BENCHMARK DATASET: 4\n",
            "MIN LOOP DISTANCE IN OUR IMPLEMENTATION: 5\n",
            "PAIRINGS VALID: True\n",
            "PSEUDOKNOTS PRESENT: False\n",
            "\n",
            "INPUT RNA STRAND: GAGGAAAGUCCGGGCUCCAUAGGGCAGAGUGCCAGGUAACGCCUGGGAGGCGCGAGCCUACGGAAAGUGCCACAGAAAACAACCGCCUAAGCGCGCAAGCGCCGGUAAGGGUGAAAAGGUGCGGUAAGAGCGCACCGCACGGCUGGCAACAGUUCGUGGCUAGGUAAACCCCACUCGGAGCAAGACCAAAUAGGGAUCCAUUGGCGUGGCCCGCGCUGGAUCCGGGUAGGUUGCUAAAGGCGGCCAGCGAUGGUCGUCGUAGAGGAAUGACUGUCCUCGACAGAACCCGGCUUA\n",
            "NUMBER OF PAIRINGS IN BENCHMARK DATASET: 81\n",
            "NUMBER OF PAIRINGS PREDICTED IN OUR IMPLEMENTATION: 97\n",
            "MIN LOOP DISTANCE IN BENCHMARK DATASET: 5\n",
            "MIN LOOP DISTANCE IN OUR IMPLEMENTATION: 5\n",
            "PAIRINGS VALID: True\n",
            "PSEUDOKNOTS PRESENT: False\n",
            "\n",
            "INPUT RNA STRAND: GGCGGCGCCGGCCGGCGGCCCACGGCCCCCCAGCCAGGGGGGCUGAGGAAACUCCGCCCUCCCCGCGGCGGCCGGGCCCCGCAAGGGGCACGGGUGAAACCCGUGGCAACGGCACAGAAACGACACGGCCCCGGGGCGUGUCGAGGACGCGGCUAGGCCGCCCUGGCAACAGGGCGGCAGCAAACCGCAGAGGAACCCCGGGGAUGCGGUGAAACGGCCGCCCCCGGCGGAGCAAGGCCCCCGGGCGGUGAGGGCCGCGCGAAGCCCGGGGGGAGACCGCUUAGCCCAAUGCCGCCGAAGUACAGAAGGCGGGUUAUGGCCGGCGCCGCC\n",
            "NUMBER OF PAIRINGS IN BENCHMARK DATASET: 91\n",
            "NUMBER OF PAIRINGS PREDICTED IN OUR IMPLEMENTATION: 119\n",
            "MIN LOOP DISTANCE IN BENCHMARK DATASET: 3\n",
            "MIN LOOP DISTANCE IN OUR IMPLEMENTATION: 5\n",
            "PAIRINGS VALID: True\n",
            "PSEUDOKNOTS PRESENT: False\n",
            "\n",
            "INPUT RNA STRAND: GAGGAAAGUCCGGGCUCCAUAGGGCAGAGUGCCAGGUAACGCCUGGGAGGCGCGAGCCUACGGAAAGUGCCACAGAAAACAACCGCCUAAGCGCGCAAGCGCCGGUAAGGGUGAAAAGGUGCGGUAAGAGCGCACCGCGCGGCUGGUAACAGUUCGUGGCUAGGUAAACCCCACUCGGAGCAAGACCAAAUAGGGAUCCGUUGGCGUGGCCCGCGCUGGAUCCGGGUAGGUUGCUAGAGGCGGCCAGUGAUGGUCGUCGUAGAGGAAUGACUGUCCUCGACAGAACCCGGCUUA\n",
            "NUMBER OF PAIRINGS IN BENCHMARK DATASET: 81\n",
            "NUMBER OF PAIRINGS PREDICTED IN OUR IMPLEMENTATION: 97\n",
            "MIN LOOP DISTANCE IN BENCHMARK DATASET: 5\n",
            "MIN LOOP DISTANCE IN OUR IMPLEMENTATION: 5\n",
            "PAIRINGS VALID: True\n",
            "PSEUDOKNOTS PRESENT: False\n",
            "\n",
            "INPUT RNA STRAND: CCAGUUGGCCGGGCAGCCGCGCCUUACCAAUGUCGAAAGACGGUAAGGUGAGGAAAGUCCGGGCUCCACGGAAAUACGGUGCCGGAUAACGUCCGGCGGGGGCGACCCCAGGGAAAGUGCCACAGAGAGCAAACCGCCAUGCCUUGCAUGGUAAGGGUGAAAGGGUGGGGUAAGAGCCCACCGCGCCGCUGGUGACAGUGGUGGCAAGGUAAACCCCACCGGGAGCAAGACCGAAUAGGGAUGACACGGGGCGGGCGAAAGCCUGUUCACAGCCGGUUUCCGGGCCCGUCAUCCGGGUGGGUUGCGAGAGGCGGCAUGCAAAUGCCGUCCCAGAUGAAUGGCUGCCACGUUCCGGGUCAAACCGGGGCCAUACAGAACCCGGCUUACAGGCCAACUGGCGAA\n",
            "NUMBER OF PAIRINGS IN BENCHMARK DATASET: 119\n",
            "NUMBER OF PAIRINGS PREDICTED IN OUR IMPLEMENTATION: 135\n",
            "MIN LOOP DISTANCE IN BENCHMARK DATASET: 4\n",
            "MIN LOOP DISTANCE IN OUR IMPLEMENTATION: 6\n",
            "PAIRINGS VALID: True\n",
            "PSEUDOKNOTS PRESENT: False\n",
            "\n",
            "INPUT RNA STRAND: GGGGAGGAAAGUCCGGGCUCCCGAAAGACCAGACUUGCUGGAUAACUUCCAGUGCGAGCGAUCGUGAGGAUAGUGCCACAGAAAAAUACCGCCAAAACAAUUCAAAAUUCAAAAUUCAAAAUUCAAAAUGAAUAAUUUUGGAUUUUGAGUCUUAGUUAUGAAUUCAAUUUUGGUAAGGGUGCAAAGGUGCGGUAAGAGCGCACCAGCAGUAUCGAGAGGUACUGGCUCGGUAAACCCCGGUUGGGAGCAAGGCCGAAGGAACUAUGGUUGGUCUUUUACCAGUUCCGUUAUCAGAGAGCCGCUAGAGGCGUUUGGUAACAAACGUCCCAGAUAGAUAAUCGCCCUCGUGUAAAGCAAUUUACACAGAGAACAGAACCCGGCUUAC\n",
            "NUMBER OF PAIRINGS IN BENCHMARK DATASET: 112\n",
            "NUMBER OF PAIRINGS PREDICTED IN OUR IMPLEMENTATION: 134\n",
            "MIN LOOP DISTANCE IN BENCHMARK DATASET: 5\n",
            "MIN LOOP DISTANCE IN OUR IMPLEMENTATION: 5\n",
            "PAIRINGS VALID: True\n",
            "PSEUDOKNOTS PRESENT: False\n",
            "\n",
            "INPUT RNA STRAND: AGGGAGAGAGUAGGCGUUGGCGGUUGCAGACCAGUUAGCUUAACUGAUUUGAGGAAAGUCCGGACUCCCGAAAGACCAGACUUGCUGGAUAACGUCCAGUGCGAGCGAUCGUGAGGAUAGUGCCACAGAAAAAUACCGCCAAGAUUGGGGACUGGGGACUAGGGGUUGGGGACUGGGGAAGAAACUUCCCAAUCCCUAAUCCCCCAUACCCAAUACCCAACUCUUGGUAAGGGUGCAAAGGUGCGGUAAGAGCGCACCAGCAGUAUCGAGAGGUACUGGCUCGGUAAACCCCGGUUGGGAGCAAGGCCGAAGAACUAUGGUUGGUCUUUUACCAGUUCCGCUAUCAGAGAGCCGCUAGAGGCGUUUGGUAACAAACGUCCCAGAUAGAUAAUCGCCCUCGUGUAAAGCAAUUUACACAGAGAACAGAACCCGGCUUACCACCAACUCUCUCCUCUUU\n",
            "NUMBER OF PAIRINGS IN BENCHMARK DATASET: 135\n",
            "NUMBER OF PAIRINGS PREDICTED IN OUR IMPLEMENTATION: 160\n",
            "MIN LOOP DISTANCE IN BENCHMARK DATASET: 3\n",
            "MIN LOOP DISTANCE IN OUR IMPLEMENTATION: 5\n",
            "PAIRINGS VALID: True\n",
            "PSEUDOKNOTS PRESENT: False\n",
            "\n",
            "INPUT RNA STRAND: UCAUAACGUUUGGGUAAUCGCUGCAACGCCAACGUUGUAGAGGAAAGUCCAUGCUCGCACGGCCUGAGAUGGCUGUAGUGUUCGUGCCUAGCCAAUUCAUAAGCUAGGGUAUUCUGGCUGUAAGGCUGGUUUAACGGCAGGGAAAAAACCUAAGUCCUUUCGGAUAUGGUUUGACUACCUUUAAAGUGCCACAGUGACGAAGUCCUUGAAGAAAUGAUAGGAGUGGAACGAGGUAAACCCCACGAGCGAGAAACCCAAAUAAUGGUAGGGGAAUCUUUUCCAAGGAAAUGAACGAUGGGAAAGGACAGGUUGUAUAACCUGUAGAUAGAUGAUUGCCACCGGAGUACGAGGCGUGGGCCGUUUGCAGUACAAAGGAACAGAACAUGGCUUACAGAACGUUAUGAACCA\n",
            "NUMBER OF PAIRINGS IN BENCHMARK DATASET: 108\n",
            "NUMBER OF PAIRINGS PREDICTED IN OUR IMPLEMENTATION: 138\n",
            "MIN LOOP DISTANCE IN BENCHMARK DATASET: 4\n",
            "MIN LOOP DISTANCE IN OUR IMPLEMENTATION: 6\n",
            "PAIRINGS VALID: True\n",
            "PSEUDOKNOTS PRESENT: False\n",
            "\n",
            "INPUT RNA STRAND: AUGCAGGAAAUGCGGGUAGCCGCUGCCGCAAUCGUCUCGGCGAUUGGCGGUAGAGGAAAGUCCAGGCUCGCCCAAGCUGAGAUGCUUGGAGUGUUCGUACCUGGCGCAAGCCAGGGCAAGUGAGGCGCAAGCCUCGCUGACGGCGUGGAAAGGGCUCUCUCUGAGGCCCGAGUACGCUGAAAGUGCCACAGAAACGUAGCUUUUCUGGCGACAGAAAAGAUGGAACGCGGUAAACCCUGCGAGCGAGAAACCCAAAUUUGGUAGGGGAACCGUCCUGAAGGAAUCAAACGGAAGGGACGGAUGGUAUCUUCGGAUGCCAUAGAUAGAUGGCUACCGCUCUUGGUGCGAGGGAUACGUCCCGCUUGCAGCACGGGAGAGACAGAACCUGGCUUAUAGCAUUUCCUGCUGGAU\n",
            "NUMBER OF PAIRINGS IN BENCHMARK DATASET: 119\n",
            "NUMBER OF PAIRINGS PREDICTED IN OUR IMPLEMENTATION: 143\n",
            "MIN LOOP DISTANCE IN BENCHMARK DATASET: 4\n",
            "MIN LOOP DISTANCE IN OUR IMPLEMENTATION: 6\n",
            "PAIRINGS VALID: True\n",
            "PSEUDOKNOTS PRESENT: False\n",
            "\n",
            "INPUT RNA STRAND: GCGGGGGAUGCAAAUCCUUCGAGGAAGGUCCGGACUCCACAGGGCGGGAUAGCGGCUAACGGCCGUCCGGCGACGCUGGCGGGCUUGCCCGCCGGAAAAGCCGAGG\n",
            "NUMBER OF PAIRINGS IN BENCHMARK DATASET: 26\n",
            "NUMBER OF PAIRINGS PREDICTED IN OUR IMPLEMENTATION: 33\n",
            "MIN LOOP DISTANCE IN BENCHMARK DATASET: 4\n",
            "MIN LOOP DISTANCE IN OUR IMPLEMENTATION: 6\n",
            "PAIRINGS VALID: True\n",
            "PSEUDOKNOTS PRESENT: False\n",
            "\n",
            "INPUT RNA STRAND: AGGGCCACAGAGACGAGUCUGUCAUGAGGGCGCGCCUGGCGCGCACCGGCACGGCCAUCUCCGUGCCGCGCCGUCCGGAAACGGGCGGCGGCAUGACAGGGUGAAACGCGGCAACC\n",
            "NUMBER OF PAIRINGS IN BENCHMARK DATASET: 38\n",
            "NUMBER OF PAIRINGS PREDICTED IN OUR IMPLEMENTATION: 39\n",
            "MIN LOOP DISTANCE IN BENCHMARK DATASET: 3\n",
            "MIN LOOP DISTANCE IN OUR IMPLEMENTATION: 6\n",
            "PAIRINGS VALID: True\n",
            "PSEUDOKNOTS PRESENT: False\n",
            "\n",
            "INPUT RNA STRAND: AGCUGGCAGCUAGCCAUCGCUUAGUUUUAUAAUUAAAGCUAAGAGGAAAGUCCGAGCUCCAAUAAGAACAUAAUGCUAGGUAAUGCCUAGGGGUUUUAAACCUAAGAAAGUGUCGCAGAAAAUUACCGCCGUAAAAGGUAAGGGUGAAAAGGUGAGGUAAGAGCUCACCGCUUAUUUAGCAAUAAAUACAGGCAAGAUAAACCUCAUUAGGAGCAAGAUCAAGUAUGAAAGCACCCUUUGUUCUUGAGGACAUGCUUACGGGUAGAUCGCUCGAUUUUUUUAGCGAUAAAAAAAUAAGAGAGAUGAUGGCAUAGUACAGAACUCGGCUUAUGGGUGUCAGCUUAAU\n",
            "NUMBER OF PAIRINGS IN BENCHMARK DATASET: 94\n",
            "NUMBER OF PAIRINGS PREDICTED IN OUR IMPLEMENTATION: 117\n",
            "MIN LOOP DISTANCE IN BENCHMARK DATASET: 4\n",
            "MIN LOOP DISTANCE IN OUR IMPLEMENTATION: 6\n",
            "PAIRINGS VALID: True\n",
            "PSEUDOKNOTS PRESENT: False\n",
            "\n",
            "INPUT RNA STRAND: AUCAUAACCGUUCAGGUAACCGCUGCAUCGCAUGCGAUGUAGAGGAAAGUCCAUGCUCGCACAGGCUGAGAUGCUUGUAGUGUUCGUGCCUAGCGAAGUCAUAAGCUAGGGUAGUCUGGUUCUUAGAACUGGGCUAACGGCAAGGUAAGCACCUACGUUCAUCAUGAAUAUGGUGUGAUGCCUUUGAAAGUGCCACAGUGACGUAGUCCGUUUGGAAACAGACGGAGUGGAACGAGGUAAACCCCUCGAGCGAGAAACCCAAAAAUUGGUAGGGGAACCUUCUUGAAGGAAAUGAACGGAGAGAAGGACGGAAGUUUUACUUCUGUAGACAGAUGGUUACCACCGGAGUACGAGGUUCAUCACCGUUUGUAGUACGAAGGAACAGAACAUGGCUUAUCGAACGGGAAUGAGA\n",
            "NUMBER OF PAIRINGS IN BENCHMARK DATASET: 112\n",
            "NUMBER OF PAIRINGS PREDICTED IN OUR IMPLEMENTATION: 140\n",
            "MIN LOOP DISTANCE IN BENCHMARK DATASET: 4\n",
            "MIN LOOP DISTANCE IN OUR IMPLEMENTATION: 5\n",
            "PAIRINGS VALID: True\n",
            "PSEUDOKNOTS PRESENT: False\n",
            "\n",
            "INPUT RNA STRAND: UGAAAUAACGUUCAGGUAAUCGCUGCAUCAUUUGAUGUAGAGGAAAGUCCAUGCUCGCACGGUGCUGAGAUGCCCGUAGUGUUCGUGCCUAGUGAAAAAAUAAGCUAGGGCAGCUUGGCUUAUAGCUUAGCUGACGGCGGGAAAAACCACCUAAGUCUUUGGAUAUGGUCGAGUAUCCUGAAAGUGCCACAGUGACGAAGCUUUGCUGGAAACAGCAAAGGUGGAACGCGGUAAACCCCACGAGCGAGAAACCCAAACAAUGGUAGGGGAACUGUCUCAAAGGAAUCUAACGGAGAGACGGACGGUUACAUGCGUAAUCGUAGAUAGAUGAUUACCGCCUGAGUACGAGAUUAAAAUCGUUUGCAGUACAAAGGUACAAAACAUGGCUUUACGAACGUUGUUGAAACA\n",
            "NUMBER OF PAIRINGS IN BENCHMARK DATASET: 110\n",
            "NUMBER OF PAIRINGS PREDICTED IN OUR IMPLEMENTATION: 141\n",
            "MIN LOOP DISTANCE IN BENCHMARK DATASET: 4\n",
            "MIN LOOP DISTANCE IN OUR IMPLEMENTATION: 5\n",
            "PAIRINGS VALID: True\n",
            "PSEUDOKNOTS PRESENT: False\n",
            "\n",
            "INPUT RNA STRAND: GUUAAUCAUGCUCGGGUAAUCGCUGCGGCCGGUUUCGGCCGUAGAGGAAAGUCCAUGCUCGCACGGUGCUGAGAUGCCCGUAGUGUUCGUGCCUAGCGAAUCCAUAAGCUAGGGCAGCCUGGCUUCGGCUGGGCUGACGGCGGGGAAAGAACCUACGUCCGGCUGGGAUAUGGUUCGAUUACCCUGAAAGUGCCACAGUGACGGAGCUCUAAGGGAAACCUUAGAGGUGGAACGCGGUAAACCCCACGAGCGAGAAACCCAAAUGAUGGUAGGGGCACCUUCCCGAAGGAAAUGAACGGAGGGAAGGACAGGCGGCGCAUGCAGCCUGUAGAUAGAUGAUUACCGCCGGAGUACGAGGCGCAAAGCCGCUUGCAGUACGAAGGUACAGAACAUGGCUUAUAGAGCAUGAUUAACGUG\n",
            "NUMBER OF PAIRINGS IN BENCHMARK DATASET: 114\n",
            "NUMBER OF PAIRINGS PREDICTED IN OUR IMPLEMENTATION: 144\n",
            "MIN LOOP DISTANCE IN BENCHMARK DATASET: 4\n",
            "MIN LOOP DISTANCE IN OUR IMPLEMENTATION: 5\n",
            "PAIRINGS VALID: True\n",
            "PSEUDOKNOTS PRESENT: False\n",
            "\n",
            "INPUT RNA STRAND: GCAGUUGGCCGGUCUGUCGCGUGCGCGUUUCGUGCAGGAGGAAAGUCCGGGCAACACAGAGCAUCCUACUUCCUAACAGAAAGCUGUCCGCGAGGGUAGAGUAACGUAGAAGAAAAUAACCGCCGCUCCUUUCGGGGAGAGGUAAGGGUGAGAAGGUGGGGUAAGAGCCUACCAGCAGCAUGGUGACAUGUGGGCUGUACGUCUUAGGAGUUGUAAGGUCAUGUAAACCGGCGUUAUGAGAGUUGCUCGCUCCAUGUCGGAGGGUAGACCGCUAAAGUGUCGUGGUGACACGCCACUCAGAUAAAUGACAGGCACCUUAUUAUAUAAGGUACAGAACUCGGCUUAUAGGCUGACUGCUUUU\n",
            "NUMBER OF PAIRINGS IN BENCHMARK DATASET: 104\n",
            "NUMBER OF PAIRINGS PREDICTED IN OUR IMPLEMENTATION: 121\n",
            "MIN LOOP DISTANCE IN BENCHMARK DATASET: 3\n",
            "MIN LOOP DISTANCE IN OUR IMPLEMENTATION: 5\n",
            "PAIRINGS VALID: True\n",
            "PSEUDOKNOTS PRESENT: False\n",
            "\n",
            "INPUT RNA STRAND: GAGGAAAGUCCGGGCUCCAUAGGGCGAAGUGCCAGGUAAUGCCUGGGAGGCGUGAGCCUACGGAAAGUGCCACAGAAAAUAACCGCCUAAGUACUUCGGUACCGGUAAGGGUGAAAAGGUGCGGUAAGAGCGCACCGCACGACUGGCAACAGUUCGUGGCUAGGUAAACCCCACUUGGAGCAAGACCAAAUAGGGUCCCAAGGCGUGGCCCGCGCUGGGACCGGGUAGGUUGCUAAAGAUGUCCAGUGAUGGCCAUCGUAGACGAAUGACUGUUCAAGACAGAAUCCGGCUUA\n",
            "NUMBER OF PAIRINGS IN BENCHMARK DATASET: 80\n",
            "NUMBER OF PAIRINGS PREDICTED IN OUR IMPLEMENTATION: 97\n",
            "MIN LOOP DISTANCE IN BENCHMARK DATASET: 5\n",
            "MIN LOOP DISTANCE IN OUR IMPLEMENTATION: 5\n",
            "PAIRINGS VALID: True\n",
            "PSEUDOKNOTS PRESENT: False\n",
            "\n",
            "INPUT RNA STRAND: CGAGUAAGCCAGACAAUCGCUGCUGCAAUUUGCAGGAGAGGAAAGUCCGAGCUCCAUAGGGCAGGGUGCCGGGUAACUCCCGGUCAAGGCGACUUGAAGGAAAGUGCAACAGAGAUAUACCGCCAUUUUAUAAUGGUAAGGGUGGAAAGGCGAGGUAAGAGCUCACCAGCGCAUUGGCGACUUUGCGGCUAUGUAAACCCCAUCUGGAGCAAGAUCAAAUAGGGAAGCGUUUUGGAGUGGCCCGCUCUGCUUCCGGGUAGCAUCGCUUGAAUCUUAUGGUAACAUAAGGUCUAGAUAGAUGAUUGUCGAAUACAGAACUCGGCUUACAGGUUUAGUCGUCCAUUG\n",
            "NUMBER OF PAIRINGS IN BENCHMARK DATASET: 93\n",
            "NUMBER OF PAIRINGS PREDICTED IN OUR IMPLEMENTATION: 115\n",
            "MIN LOOP DISTANCE IN BENCHMARK DATASET: 3\n",
            "MIN LOOP DISTANCE IN OUR IMPLEMENTATION: 5\n",
            "PAIRINGS VALID: True\n",
            "PSEUDOKNOTS PRESENT: False\n",
            "\n",
            "INPUT RNA STRAND: GAGGAAAGUCCGGGCUCCAUAGAGCAGGGUGGUGGGUAACGCCCACCCGGGGUGACCCGCGGGAAAGUGCCACAGAGAACAGACUGCCGGUUUCGAGCCGGUGAGGGUGAAACGGUGGAGUAAGUGCCCACCGCGUCAUCGGUGACGGUGACGGCAUGGCAAACCCCACCUGGAGCAAGGCCAAGAAGACCGUGAGGUCGCGGACGCGUUUGAGGGUUGCUCGCUUGAGUGUCUGGGUAGGCUGCGCAGCCGAAAGGCUGGAGGACACCAGCAAUGGUGUUCACAGAUGGAUGAUCACCGGCCCGGCGGGGCUACAGAAUCCGGCUUA\n",
            "NUMBER OF PAIRINGS IN BENCHMARK DATASET: 93\n",
            "NUMBER OF PAIRINGS PREDICTED IN OUR IMPLEMENTATION: 110\n",
            "MIN LOOP DISTANCE IN BENCHMARK DATASET: 3\n",
            "MIN LOOP DISTANCE IN OUR IMPLEMENTATION: 5\n",
            "PAIRINGS VALID: True\n",
            "PSEUDOKNOTS PRESENT: False\n",
            "\n",
            "INPUT RNA STRAND: UCGGAAGAGUAAGGCAACCGCUUUUUAUAUCUCUAGUUAGGUAUACUGAGAGGAAAGUCUGGACUUCAUAAGAAGAGAUACUGGAGAAACUCCAGGGGCCGUAAGGCUACGGAAAGUGCAACAGAAAACACUCCGCUAUAAAAGGGUCUUUUUAUAGACAGGCUGAAAAUUCCUACUUUAAGAGUAGGAGCUAUUAAGGUGACUUAAUAGACAUGCAAACCCUAUCUGAAGCAAGAGAAAAAGUUUUUGUUUCUGCAUAGUGAGGGAUAGUAUUCCUCAUAAACUUUUUCAUAAUCGCUUGAGGGGUAUAGUAAUAUGCCCCCUAGAUGAAUGGUUGCCCUCAAGAUGGUCUUUUCCAUCUUGUAGACAGAAUCCGGCUUACUCGCUC\n",
            "NUMBER OF PAIRINGS IN BENCHMARK DATASET: 113\n",
            "NUMBER OF PAIRINGS PREDICTED IN OUR IMPLEMENTATION: 135\n",
            "MIN LOOP DISTANCE IN BENCHMARK DATASET: 4\n",
            "MIN LOOP DISTANCE IN OUR IMPLEMENTATION: 5\n",
            "PAIRINGS VALID: True\n",
            "PSEUDOKNOTS PRESENT: False\n",
            "\n"
          ],
          "name": "stdout"
        }
      ]
    },
    {
      "cell_type": "code",
      "metadata": {
        "colab": {
          "base_uri": "https://localhost:8080/"
        },
        "id": "E-vuuzI0K9h4",
        "outputId": "84200d10-8a07-4ce0-d7d0-fcea6f04ad0e"
      },
      "source": [
        "strand = 'CUUUCCACACUAUUUAGUUCUACGGAAAC'\n",
        "expected = '.(((((..(((....))).....))))).'\n",
        "compare_single_sample(strand, expected)"
      ],
      "execution_count": null,
      "outputs": [
        {
          "output_type": "stream",
          "text": [
            "INPUT RNA STRAND: CUUUCCACACUAUUUAGUUCUACGGAAAC\n",
            "EXPECTED 2D STRUCTURE: . ( ( ( ( ( . . ( ( ( . . . . ) ) ) . . . . . ) ) ) ) ) .\n",
            "OUR PREDICTED 2ND STR: - ( ( ( ( ( ( - ( ( ( - - - - ) ) ) ) - - - - ) ) ) ) ) -\n",
            "NUMBER OF PAIRINGS IN BENCHMARK DATASET: 8\n",
            "NUMBER OF PAIRINGS PREDICTED IN OUR IMPLEMENTATION: 9\n",
            "MIN LOOP DISTANCE IN BENCHMARK DATASET: 4\n",
            "MIN LOOP DISTANCE IN OUR IMPLEMENTATION: 4\n",
            "PAIRINGS VALID: True\n",
            "PSEUDOKNOTS PRESENT: False\n",
            "\n"
          ],
          "name": "stdout"
        }
      ]
    }
  ]
}